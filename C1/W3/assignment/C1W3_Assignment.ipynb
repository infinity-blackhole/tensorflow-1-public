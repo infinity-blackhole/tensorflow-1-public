{
 "cells": [
  {
   "cell_type": "markdown",
   "metadata": {
    "id": "iQjHqsmTAVLU"
   },
   "source": [
    "# Week 3: Improve MNIST with Convolutions\n",
    "\n",
    "In the videos you looked at how you would improve Fashion MNIST using Convolutions. For this exercise see if you can improve MNIST to 99.5% accuracy or more by adding only a single convolutional layer and a single MaxPooling 2D layer to the model from the  assignment of the previous week. \n",
    "\n",
    "You should stop training once the accuracy goes above this amount. It should happen in less than 10 epochs, so it's ok to hard code the number of epochs for training, but your training must end once it hits the above metric. If it doesn't, then you'll need to redesign your callback.\n",
    "\n",
    "When 99.5% accuracy has been hit, you should print out the string \"Reached 99.5% accuracy so cancelling training!\"\n"
   ]
  },
  {
   "cell_type": "code",
   "execution_count": 3,
   "metadata": {
    "id": "ZpztRwBouwYp"
   },
   "outputs": [],
   "source": [
    "import os\n",
    "import numpy as np\n",
    "import tensorflow as tf\n",
    "from tensorflow import keras"
   ]
  },
  {
   "cell_type": "markdown",
   "metadata": {},
   "source": [
    "Begin by loading the data. A couple of things to notice:\n",
    "\n",
    "- The file `mnist.npz` is already included in the current workspace under the `data` directory. By default the `load_data` from Keras accepts a path relative to `~/.keras/datasets` but in this case it is stored somewhere else, as a result of this, you need to specify the full path.\n",
    "\n",
    "- `load_data` returns the train and test sets in the form of the tuples `(x_train, y_train), (x_test, y_test)` but in this exercise you will be needing only the train set so you can ignore the second tuple."
   ]
  },
  {
   "cell_type": "code",
   "execution_count": 5,
   "metadata": {},
   "outputs": [],
   "source": [
    "# Load the data\n",
    "\n",
    "# Get current working directory\n",
    "current_dir = os.getcwd() \n",
    "\n",
    "# Append data/mnist.npz to the previous path to get the full path\n",
    "data_path = os.path.join(current_dir, \"data/mnist.npz\") \n",
    "\n",
    "# Get only training set\n",
    "(training_images, training_labels), _ = tf.keras.datasets.mnist.load_data()\n"
   ]
  },
  {
   "cell_type": "code",
   "execution_count": 46,
   "outputs": [
    {
     "data": {
      "text/plain": "array([[[0.        ],\n        [0.        ],\n        [0.        ],\n        [0.        ],\n        [0.        ],\n        [0.        ],\n        [0.        ],\n        [0.        ],\n        [0.        ],\n        [0.        ],\n        [0.        ],\n        [0.        ],\n        [0.        ],\n        [0.        ],\n        [0.        ],\n        [0.        ],\n        [0.        ],\n        [0.        ],\n        [0.        ],\n        [0.        ],\n        [0.        ],\n        [0.        ],\n        [0.        ],\n        [0.        ],\n        [0.        ],\n        [0.        ],\n        [0.        ],\n        [0.        ]],\n\n       [[0.        ],\n        [0.        ],\n        [0.        ],\n        [0.        ],\n        [0.        ],\n        [0.        ],\n        [0.        ],\n        [0.        ],\n        [0.        ],\n        [0.        ],\n        [0.        ],\n        [0.        ],\n        [0.        ],\n        [0.        ],\n        [0.        ],\n        [0.        ],\n        [0.        ],\n        [0.        ],\n        [0.        ],\n        [0.        ],\n        [0.        ],\n        [0.        ],\n        [0.        ],\n        [0.        ],\n        [0.        ],\n        [0.        ],\n        [0.        ],\n        [0.        ]],\n\n       [[0.        ],\n        [0.        ],\n        [0.        ],\n        [0.        ],\n        [0.        ],\n        [0.        ],\n        [0.        ],\n        [0.        ],\n        [0.        ],\n        [0.        ],\n        [0.        ],\n        [0.        ],\n        [0.        ],\n        [0.        ],\n        [0.        ],\n        [0.        ],\n        [0.        ],\n        [0.        ],\n        [0.        ],\n        [0.        ],\n        [0.        ],\n        [0.        ],\n        [0.        ],\n        [0.        ],\n        [0.        ],\n        [0.        ],\n        [0.        ],\n        [0.        ]],\n\n       [[0.        ],\n        [0.        ],\n        [0.        ],\n        [0.        ],\n        [0.        ],\n        [0.        ],\n        [0.        ],\n        [0.        ],\n        [0.        ],\n        [0.        ],\n        [0.        ],\n        [0.        ],\n        [0.        ],\n        [0.        ],\n        [0.        ],\n        [0.        ],\n        [0.        ],\n        [0.        ],\n        [0.        ],\n        [0.        ],\n        [0.        ],\n        [0.        ],\n        [0.        ],\n        [0.        ],\n        [0.        ],\n        [0.        ],\n        [0.        ],\n        [0.        ]],\n\n       [[0.        ],\n        [0.        ],\n        [0.        ],\n        [0.        ],\n        [0.        ],\n        [0.        ],\n        [0.        ],\n        [0.        ],\n        [0.        ],\n        [0.        ],\n        [0.        ],\n        [0.        ],\n        [0.        ],\n        [0.        ],\n        [0.        ],\n        [0.        ],\n        [0.        ],\n        [0.        ],\n        [0.        ],\n        [0.        ],\n        [0.        ],\n        [0.        ],\n        [0.        ],\n        [0.        ],\n        [0.        ],\n        [0.        ],\n        [0.        ],\n        [0.        ]],\n\n       [[0.        ],\n        [0.        ],\n        [0.        ],\n        [0.        ],\n        [0.        ],\n        [0.        ],\n        [0.        ],\n        [0.        ],\n        [0.        ],\n        [0.        ],\n        [0.        ],\n        [0.        ],\n        [0.01181102],\n        [0.07086614],\n        [0.07086614],\n        [0.07086614],\n        [0.49606299],\n        [0.53543307],\n        [0.68897638],\n        [0.1023622 ],\n        [0.65354331],\n        [1.00393701],\n        [0.97244094],\n        [0.5       ],\n        [0.        ],\n        [0.        ],\n        [0.        ],\n        [0.        ]],\n\n       [[0.        ],\n        [0.        ],\n        [0.        ],\n        [0.        ],\n        [0.        ],\n        [0.        ],\n        [0.        ],\n        [0.        ],\n        [0.11811024],\n        [0.14173228],\n        [0.37007874],\n        [0.60629921],\n        [0.66929134],\n        [0.99606299],\n        [0.99606299],\n        [0.99606299],\n        [0.99606299],\n        [0.99606299],\n        [0.88582677],\n        [0.67716535],\n        [0.99606299],\n        [0.95275591],\n        [0.76771654],\n        [0.2519685 ],\n        [0.        ],\n        [0.        ],\n        [0.        ],\n        [0.        ]],\n\n       [[0.        ],\n        [0.        ],\n        [0.        ],\n        [0.        ],\n        [0.        ],\n        [0.        ],\n        [0.        ],\n        [0.19291339],\n        [0.93700787],\n        [0.99606299],\n        [0.99606299],\n        [0.99606299],\n        [0.99606299],\n        [0.99606299],\n        [0.99606299],\n        [0.99606299],\n        [0.99606299],\n        [0.98818898],\n        [0.36614173],\n        [0.32283465],\n        [0.32283465],\n        [0.22047244],\n        [0.15354331],\n        [0.        ],\n        [0.        ],\n        [0.        ],\n        [0.        ],\n        [0.        ]],\n\n       [[0.        ],\n        [0.        ],\n        [0.        ],\n        [0.        ],\n        [0.        ],\n        [0.        ],\n        [0.        ],\n        [0.07086614],\n        [0.86220472],\n        [0.99606299],\n        [0.99606299],\n        [0.99606299],\n        [0.99606299],\n        [0.99606299],\n        [0.77952756],\n        [0.71653543],\n        [0.97244094],\n        [0.9488189 ],\n        [0.        ],\n        [0.        ],\n        [0.        ],\n        [0.        ],\n        [0.        ],\n        [0.        ],\n        [0.        ],\n        [0.        ],\n        [0.        ],\n        [0.        ]],\n\n       [[0.        ],\n        [0.        ],\n        [0.        ],\n        [0.        ],\n        [0.        ],\n        [0.        ],\n        [0.        ],\n        [0.        ],\n        [0.31496063],\n        [0.61417323],\n        [0.42125984],\n        [0.99606299],\n        [0.99606299],\n        [0.80708661],\n        [0.04330709],\n        [0.        ],\n        [0.16929134],\n        [0.60629921],\n        [0.        ],\n        [0.        ],\n        [0.        ],\n        [0.        ],\n        [0.        ],\n        [0.        ],\n        [0.        ],\n        [0.        ],\n        [0.        ],\n        [0.        ]],\n\n       [[0.        ],\n        [0.        ],\n        [0.        ],\n        [0.        ],\n        [0.        ],\n        [0.        ],\n        [0.        ],\n        [0.        ],\n        [0.        ],\n        [0.05511811],\n        [0.00393701],\n        [0.60629921],\n        [0.99606299],\n        [0.35433071],\n        [0.        ],\n        [0.        ],\n        [0.        ],\n        [0.        ],\n        [0.        ],\n        [0.        ],\n        [0.        ],\n        [0.        ],\n        [0.        ],\n        [0.        ],\n        [0.        ],\n        [0.        ],\n        [0.        ],\n        [0.        ]],\n\n       [[0.        ],\n        [0.        ],\n        [0.        ],\n        [0.        ],\n        [0.        ],\n        [0.        ],\n        [0.        ],\n        [0.        ],\n        [0.        ],\n        [0.        ],\n        [0.        ],\n        [0.54724409],\n        [0.99606299],\n        [0.7480315 ],\n        [0.00787402],\n        [0.        ],\n        [0.        ],\n        [0.        ],\n        [0.        ],\n        [0.        ],\n        [0.        ],\n        [0.        ],\n        [0.        ],\n        [0.        ],\n        [0.        ],\n        [0.        ],\n        [0.        ],\n        [0.        ]],\n\n       [[0.        ],\n        [0.        ],\n        [0.        ],\n        [0.        ],\n        [0.        ],\n        [0.        ],\n        [0.        ],\n        [0.        ],\n        [0.        ],\n        [0.        ],\n        [0.        ],\n        [0.04330709],\n        [0.7480315 ],\n        [0.99606299],\n        [0.27559055],\n        [0.        ],\n        [0.        ],\n        [0.        ],\n        [0.        ],\n        [0.        ],\n        [0.        ],\n        [0.        ],\n        [0.        ],\n        [0.        ],\n        [0.        ],\n        [0.        ],\n        [0.        ],\n        [0.        ]],\n\n       [[0.        ],\n        [0.        ],\n        [0.        ],\n        [0.        ],\n        [0.        ],\n        [0.        ],\n        [0.        ],\n        [0.        ],\n        [0.        ],\n        [0.        ],\n        [0.        ],\n        [0.        ],\n        [0.13779528],\n        [0.9488189 ],\n        [0.88582677],\n        [0.62992126],\n        [0.42519685],\n        [0.00393701],\n        [0.        ],\n        [0.        ],\n        [0.        ],\n        [0.        ],\n        [0.        ],\n        [0.        ],\n        [0.        ],\n        [0.        ],\n        [0.        ],\n        [0.        ]],\n\n       [[0.        ],\n        [0.        ],\n        [0.        ],\n        [0.        ],\n        [0.        ],\n        [0.        ],\n        [0.        ],\n        [0.        ],\n        [0.        ],\n        [0.        ],\n        [0.        ],\n        [0.        ],\n        [0.        ],\n        [0.31889764],\n        [0.94488189],\n        [0.99606299],\n        [0.99606299],\n        [0.46850394],\n        [0.0984252 ],\n        [0.        ],\n        [0.        ],\n        [0.        ],\n        [0.        ],\n        [0.        ],\n        [0.        ],\n        [0.        ],\n        [0.        ],\n        [0.        ]],\n\n       [[0.        ],\n        [0.        ],\n        [0.        ],\n        [0.        ],\n        [0.        ],\n        [0.        ],\n        [0.        ],\n        [0.        ],\n        [0.        ],\n        [0.        ],\n        [0.        ],\n        [0.        ],\n        [0.        ],\n        [0.        ],\n        [0.17716535],\n        [0.73228346],\n        [0.99606299],\n        [0.99606299],\n        [0.59055118],\n        [0.10629921],\n        [0.        ],\n        [0.        ],\n        [0.        ],\n        [0.        ],\n        [0.        ],\n        [0.        ],\n        [0.        ],\n        [0.        ]],\n\n       [[0.        ],\n        [0.        ],\n        [0.        ],\n        [0.        ],\n        [0.        ],\n        [0.        ],\n        [0.        ],\n        [0.        ],\n        [0.        ],\n        [0.        ],\n        [0.        ],\n        [0.        ],\n        [0.        ],\n        [0.        ],\n        [0.        ],\n        [0.06299213],\n        [0.36614173],\n        [0.99212598],\n        [0.99606299],\n        [0.73622047],\n        [0.        ],\n        [0.        ],\n        [0.        ],\n        [0.        ],\n        [0.        ],\n        [0.        ],\n        [0.        ],\n        [0.        ]],\n\n       [[0.        ],\n        [0.        ],\n        [0.        ],\n        [0.        ],\n        [0.        ],\n        [0.        ],\n        [0.        ],\n        [0.        ],\n        [0.        ],\n        [0.        ],\n        [0.        ],\n        [0.        ],\n        [0.        ],\n        [0.        ],\n        [0.        ],\n        [0.        ],\n        [0.        ],\n        [0.98031496],\n        [0.99606299],\n        [0.98031496],\n        [0.2519685 ],\n        [0.        ],\n        [0.        ],\n        [0.        ],\n        [0.        ],\n        [0.        ],\n        [0.        ],\n        [0.        ]],\n\n       [[0.        ],\n        [0.        ],\n        [0.        ],\n        [0.        ],\n        [0.        ],\n        [0.        ],\n        [0.        ],\n        [0.        ],\n        [0.        ],\n        [0.        ],\n        [0.        ],\n        [0.        ],\n        [0.        ],\n        [0.        ],\n        [0.18110236],\n        [0.51181102],\n        [0.72047244],\n        [0.99606299],\n        [0.99606299],\n        [0.81496063],\n        [0.00787402],\n        [0.        ],\n        [0.        ],\n        [0.        ],\n        [0.        ],\n        [0.        ],\n        [0.        ],\n        [0.        ]],\n\n       [[0.        ],\n        [0.        ],\n        [0.        ],\n        [0.        ],\n        [0.        ],\n        [0.        ],\n        [0.        ],\n        [0.        ],\n        [0.        ],\n        [0.        ],\n        [0.        ],\n        [0.        ],\n        [0.15354331],\n        [0.58267717],\n        [0.9015748 ],\n        [0.99606299],\n        [0.99606299],\n        [0.99606299],\n        [0.98425197],\n        [0.71653543],\n        [0.        ],\n        [0.        ],\n        [0.        ],\n        [0.        ],\n        [0.        ],\n        [0.        ],\n        [0.        ],\n        [0.        ]],\n\n       [[0.        ],\n        [0.        ],\n        [0.        ],\n        [0.        ],\n        [0.        ],\n        [0.        ],\n        [0.        ],\n        [0.        ],\n        [0.        ],\n        [0.        ],\n        [0.09448819],\n        [0.4488189 ],\n        [0.87007874],\n        [0.99606299],\n        [0.99606299],\n        [0.99606299],\n        [0.99606299],\n        [0.79133858],\n        [0.30708661],\n        [0.        ],\n        [0.        ],\n        [0.        ],\n        [0.        ],\n        [0.        ],\n        [0.        ],\n        [0.        ],\n        [0.        ],\n        [0.        ]],\n\n       [[0.        ],\n        [0.        ],\n        [0.        ],\n        [0.        ],\n        [0.        ],\n        [0.        ],\n        [0.        ],\n        [0.        ],\n        [0.09055118],\n        [0.25984252],\n        [0.83858268],\n        [0.99606299],\n        [0.99606299],\n        [0.99606299],\n        [0.99606299],\n        [0.77952756],\n        [0.31889764],\n        [0.00787402],\n        [0.        ],\n        [0.        ],\n        [0.        ],\n        [0.        ],\n        [0.        ],\n        [0.        ],\n        [0.        ],\n        [0.        ],\n        [0.        ],\n        [0.        ]],\n\n       [[0.        ],\n        [0.        ],\n        [0.        ],\n        [0.        ],\n        [0.        ],\n        [0.        ],\n        [0.07086614],\n        [0.67322835],\n        [0.86220472],\n        [0.99606299],\n        [0.99606299],\n        [0.99606299],\n        [0.99606299],\n        [0.76771654],\n        [0.31496063],\n        [0.03543307],\n        [0.        ],\n        [0.        ],\n        [0.        ],\n        [0.        ],\n        [0.        ],\n        [0.        ],\n        [0.        ],\n        [0.        ],\n        [0.        ],\n        [0.        ],\n        [0.        ],\n        [0.        ]],\n\n       [[0.        ],\n        [0.        ],\n        [0.        ],\n        [0.        ],\n        [0.21653543],\n        [0.67716535],\n        [0.88976378],\n        [0.99606299],\n        [0.99606299],\n        [0.99606299],\n        [0.99606299],\n        [0.96062992],\n        [0.52362205],\n        [0.04330709],\n        [0.        ],\n        [0.        ],\n        [0.        ],\n        [0.        ],\n        [0.        ],\n        [0.        ],\n        [0.        ],\n        [0.        ],\n        [0.        ],\n        [0.        ],\n        [0.        ],\n        [0.        ],\n        [0.        ],\n        [0.        ]],\n\n       [[0.        ],\n        [0.        ],\n        [0.        ],\n        [0.        ],\n        [0.53543307],\n        [0.99606299],\n        [0.99606299],\n        [0.99606299],\n        [0.83464567],\n        [0.53149606],\n        [0.51968504],\n        [0.06299213],\n        [0.        ],\n        [0.        ],\n        [0.        ],\n        [0.        ],\n        [0.        ],\n        [0.        ],\n        [0.        ],\n        [0.        ],\n        [0.        ],\n        [0.        ],\n        [0.        ],\n        [0.        ],\n        [0.        ],\n        [0.        ],\n        [0.        ],\n        [0.        ]],\n\n       [[0.        ],\n        [0.        ],\n        [0.        ],\n        [0.        ],\n        [0.        ],\n        [0.        ],\n        [0.        ],\n        [0.        ],\n        [0.        ],\n        [0.        ],\n        [0.        ],\n        [0.        ],\n        [0.        ],\n        [0.        ],\n        [0.        ],\n        [0.        ],\n        [0.        ],\n        [0.        ],\n        [0.        ],\n        [0.        ],\n        [0.        ],\n        [0.        ],\n        [0.        ],\n        [0.        ],\n        [0.        ],\n        [0.        ],\n        [0.        ],\n        [0.        ]],\n\n       [[0.        ],\n        [0.        ],\n        [0.        ],\n        [0.        ],\n        [0.        ],\n        [0.        ],\n        [0.        ],\n        [0.        ],\n        [0.        ],\n        [0.        ],\n        [0.        ],\n        [0.        ],\n        [0.        ],\n        [0.        ],\n        [0.        ],\n        [0.        ],\n        [0.        ],\n        [0.        ],\n        [0.        ],\n        [0.        ],\n        [0.        ],\n        [0.        ],\n        [0.        ],\n        [0.        ],\n        [0.        ],\n        [0.        ],\n        [0.        ],\n        [0.        ]],\n\n       [[0.        ],\n        [0.        ],\n        [0.        ],\n        [0.        ],\n        [0.        ],\n        [0.        ],\n        [0.        ],\n        [0.        ],\n        [0.        ],\n        [0.        ],\n        [0.        ],\n        [0.        ],\n        [0.        ],\n        [0.        ],\n        [0.        ],\n        [0.        ],\n        [0.        ],\n        [0.        ],\n        [0.        ],\n        [0.        ],\n        [0.        ],\n        [0.        ],\n        [0.        ],\n        [0.        ],\n        [0.        ],\n        [0.        ],\n        [0.        ],\n        [0.        ]]])"
     },
     "execution_count": 46,
     "metadata": {},
     "output_type": "execute_result"
    }
   ],
   "source": [
    "training_images[0]"
   ],
   "metadata": {
    "collapsed": false,
    "pycharm": {
     "name": "#%%\n"
    }
   }
  },
  {
   "cell_type": "markdown",
   "metadata": {},
   "source": [
    "One important step when dealing with image data is to preprocess the data. During the preprocess step you can apply transformations to the dataset that will be fed into your convolutional neural network.\n",
    "\n",
    "Here you will apply two transformations to the data:\n",
    "- Reshape the data so that it has an extra dimension. The reason for this \n",
    "is that commonly you will use 3-dimensional arrays (without counting the batch dimension) to represent image data. The third dimension represents the color using RGB values. This data might be in black and white format so the third dimension doesn't really add any additional information for the classification process but it is a good practice regardless.\n",
    "\n",
    "\n",
    "- Normalize the pixel values so that these are values between 0 and 1. You can achieve this by dividing every value in the array by the maximum.\n",
    "\n",
    "Remember that these tensors are of type `numpy.ndarray` so you can use functions like [reshape](https://numpy.org/doc/stable/reference/generated/numpy.reshape.html) or [divide](https://numpy.org/doc/stable/reference/generated/numpy.divide.html) to complete the `reshape_and_normalize` function below:"
   ]
  },
  {
   "cell_type": "code",
   "execution_count": 48,
   "metadata": {},
   "outputs": [],
   "source": [
    "# GRADED FUNCTION: reshape_and_normalize\n",
    "\n",
    "def reshape_and_normalize(images):\n",
    "    \n",
    "    ### START CODE HERE\n",
    "\n",
    "    # Reshape the images to add an extra dimension\n",
    "    images = np.expand_dims(images, -1)\n",
    "    \n",
    "    # Normalize pixel values\n",
    "    images = images / 255\n",
    "    \n",
    "    ### END CODE HERE\n",
    "\n",
    "    return images"
   ]
  },
  {
   "cell_type": "markdown",
   "metadata": {},
   "source": [
    "Test your function with the next cell:"
   ]
  },
  {
   "cell_type": "code",
   "execution_count": 49,
   "metadata": {},
   "outputs": [
    {
     "name": "stdout",
     "output_type": "stream",
     "text": [
      "Maximum pixel value after normalization: 1.0\n",
      "\n",
      "Shape of training set after reshaping: (60000, 28, 28, 1)\n",
      "\n",
      "Shape of one image after reshaping: (28, 28, 1)\n"
     ]
    }
   ],
   "source": [
    "# Reload the images in case you run this cell multiple times\n",
    "(training_images, _), _ = tf.keras.datasets.mnist.load_data(path=data_path) \n",
    "\n",
    "# Apply your function\n",
    "training_images = reshape_and_normalize(training_images)\n",
    "\n",
    "print(f\"Maximum pixel value after normalization: {np.max(training_images)}\\n\")\n",
    "print(f\"Shape of training set after reshaping: {training_images.shape}\\n\")\n",
    "print(f\"Shape of one image after reshaping: {training_images[0].shape}\")\n"
   ]
  },
  {
   "cell_type": "markdown",
   "metadata": {},
   "source": [
    "**Expected Output:**\n",
    "```\n",
    "Maximum pixel value after normalization: 1.0\n",
    "\n",
    "Shape of training set after reshaping: (60000, 28, 28, 1)\n",
    "\n",
    "Shape of one image after reshaping: (28, 28, 1)\n",
    "```"
   ]
  },
  {
   "cell_type": "markdown",
   "metadata": {},
   "source": [
    "Now complete the callback that will ensure that training will stop after an accuracy of 99.5% is reached:"
   ]
  },
  {
   "cell_type": "code",
   "execution_count": 42,
   "metadata": {},
   "outputs": [],
   "source": [
    "# GRADED CLASS: myCallback\n",
    "### START CODE HERE\n",
    "\n",
    "# Remember to inherit from the correct class\n",
    "class myCallback(keras.callbacks.Callback):\n",
    "    # Define the method that checks the accuracy at the end of each epoch\n",
    "    def on_epoch_end(self, epoch, logs=None):\n",
    "        if logs.get(\"accuracy\") is not None and logs.get(\"accuracy\") >= 0.995:\n",
    "            self.model.stop_training = True\n",
    "\n",
    "### END CODE HERE\n",
    "\n",
    "\n"
   ]
  },
  {
   "cell_type": "markdown",
   "metadata": {},
   "source": [
    "Finally, complete the `convolutional_model` function below. This function should return your convolutional neural network:"
   ]
  },
  {
   "cell_type": "code",
   "execution_count": 43,
   "metadata": {},
   "outputs": [],
   "source": [
    "# GRADED FUNCTION: convolutional_model\n",
    "def convolutional_model():\n",
    "    ### START CODE HERE\n",
    "\n",
    "    # Define the model, it should have 5 layers:\n",
    "    # - A Conv2D layer with 32 filters, a kernel_size of 3x3, ReLU activation function\n",
    "    #    and an input shape that matches that of every image in the training set\n",
    "    # - A MaxPooling2D layer with a pool_size of 2x2\n",
    "    # - A Flatten layer with no arguments\n",
    "    # - A Dense layer with 128 units and ReLU activation function\n",
    "    # - A Dense layer with 10 units and softmax activation function\n",
    "    model = tf.keras.models.Sequential([\n",
    "      keras.Input(shape=(28, 28, 1)),\n",
    "      keras.layers.Conv2D(32, (3, 3), activation='relu'),\n",
    "      keras.layers.MaxPool2D(2, 2),\n",
    "      keras.layers.Flatten(),\n",
    "      keras.layers.Dense(128, activation='relu'),\n",
    "      keras.layers.Dense(10, activation='softmax'),\n",
    "    ])\n",
    "\n",
    "    ### END CODE HERE\n",
    "\n",
    "    # Compile the model\n",
    "    model.compile(optimizer='adam', \n",
    "                  loss='sparse_categorical_crossentropy', \n",
    "                  metrics=['accuracy']) \n",
    "        \n",
    "    return model"
   ]
  },
  {
   "cell_type": "code",
   "execution_count": 44,
   "metadata": {},
   "outputs": [
    {
     "name": "stdout",
     "output_type": "stream",
     "text": [
      "Epoch 1/10\n",
      "   1/1875 [..............................] - ETA: 13:48 - loss: 2.2819 - accuracy: 0.1562WARNING:tensorflow:Callback method `on_train_batch_end` is slow compared to the batch time (batch time: 0.0028s vs `on_train_batch_end` time: 0.0042s). Check your callbacks.\n",
      "1875/1875 [==============================] - 6s 3ms/step - loss: 0.1547 - accuracy: 0.9533\n",
      "Epoch 2/10\n",
      "1875/1875 [==============================] - 5s 3ms/step - loss: 0.0524 - accuracy: 0.9840\n",
      "Epoch 3/10\n",
      "1875/1875 [==============================] - 5s 3ms/step - loss: 0.0337 - accuracy: 0.9895\n",
      "Epoch 4/10\n",
      "1875/1875 [==============================] - 6s 3ms/step - loss: 0.0218 - accuracy: 0.9933\n",
      "Epoch 5/10\n",
      "1875/1875 [==============================] - 5s 3ms/step - loss: 0.0155 - accuracy: 0.9950\n"
     ]
    }
   ],
   "source": [
    "# Save your untrained model\n",
    "model = convolutional_model()\n",
    "\n",
    "# Instantiate the callback class\n",
    "callbacks = myCallback()\n",
    "\n",
    "# Train your model (this can take up to 5 minutes)\n",
    "history = model.fit(training_images, training_labels, epochs=10, callbacks=[callbacks])"
   ]
  },
  {
   "cell_type": "markdown",
   "metadata": {},
   "source": [
    "If you see the message that you defined in your callback printed out after less than 10 epochs it means your callback worked as expected. You can also double check by running the following cell:"
   ]
  },
  {
   "cell_type": "code",
   "execution_count": null,
   "metadata": {},
   "outputs": [],
   "source": [
    "print(f\"Your model was trained for {len(history.epoch)} epochs\")"
   ]
  },
  {
   "cell_type": "markdown",
   "metadata": {},
   "source": [
    "**Congratulations on finishing this week's assignment!**\n",
    "\n",
    "You have successfully implemented a CNN to assist you in the image classification task. Nice job!\n",
    "\n",
    "**Keep it up!**"
   ]
  }
 ],
 "metadata": {
  "jupytext": {
   "main_language": "python"
  },
  "kernelspec": {
   "display_name": "Python 3",
   "name": "python3"
  }
 },
 "nbformat": 4,
 "nbformat_minor": 4
}