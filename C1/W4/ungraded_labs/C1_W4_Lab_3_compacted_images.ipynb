{
 "cells": [
  {
   "cell_type": "markdown",
   "metadata": {},
   "source": [
    "<a href=\"https://colab.research.google.com/github/https-deeplearning-ai/tensorflow-1-public/blob/master/C1/W4/ungraded_labs/C1_W4_Lab_3_compacted_images.ipynb\" target=\"_parent\"><img src=\"https://colab.research.google.com/assets/colab-badge.svg\" alt=\"Open In Colab\"/></a>"
   ]
  },
  {
   "cell_type": "markdown",
   "metadata": {
    "id": "qR8Am0lBtRAx"
   },
   "source": [
    "# Ungraded Lab: Effect of Compacted Images in Training\n",
    "\n",
    "In this notebook, you will see how reducing the target size of the generator images will affect the architecture and performance of your model. This is a useful technique in case you need to speed up your training or save compute resources. Let's begin!"
   ]
  },
  {
   "cell_type": "markdown",
   "metadata": {
    "id": "D1iD7DhP2NWt"
   },
   "source": [
    "**IMPORTANT NOTE:** This notebook is designed to run as a Colab. Running it on your local machine might result in some of the code blocks throwing errors."
   ]
  },
  {
   "cell_type": "markdown",
   "metadata": {
    "id": "qxY7KvGQ2Qdr"
   },
   "source": [
    "As before, start downloading the train and validation sets:"
   ]
  },
  {
   "cell_type": "code",
   "execution_count": 36,
   "metadata": {
    "id": "RXZT2UsyIVe_"
   },
   "outputs": [
    {
     "name": "stderr",
     "output_type": "stream",
     "text": [
      "C:\\Users\\devas\\AppData\\Local\\pypoetry\\Cache\\virtualenvs\\tensorflow-1-public-cSeBuBzT-py3.7\\lib\\site-packages\\gdown\\cli.py:131: FutureWarning: Option `--id` was deprecated in version 4.3.1 and will be removed in 5.0. You don't need to pass it anymore to use a file ID.\n",
      "  category=FutureWarning,\n",
      "Downloading...\n",
      "From: https://drive.google.com/uc?id=1onaG42NZft3wCE1WH0GDEbUhu75fedP5\n",
      "To: D:\\Source\\Sandoxes\\tensorflow-1-public\\C1\\W4\\ungraded_labs\\horse-or-human.zip\n",
      "\n",
      "  0%|          | 0.00/150M [00:00<?, ?B/s]\n",
      "  1%|          | 1.05M/150M [00:00<00:29, 5.09MB/s]\n",
      "  1%|1         | 2.10M/150M [00:00<00:23, 6.41MB/s]\n",
      "  2%|2         | 3.15M/150M [00:00<00:21, 6.87MB/s]\n",
      "  3%|2         | 4.19M/150M [00:00<00:21, 6.88MB/s]\n",
      "  4%|3         | 5.24M/150M [00:00<00:19, 7.23MB/s]\n",
      "  4%|4         | 6.29M/150M [00:00<00:19, 7.49MB/s]\n",
      "  5%|4         | 7.34M/150M [00:01<00:19, 7.24MB/s]\n",
      "  6%|5         | 8.39M/150M [00:01<00:18, 7.49MB/s]\n",
      "  6%|6         | 9.44M/150M [00:01<00:18, 7.39MB/s]\n",
      "  7%|7         | 10.5M/150M [00:01<00:19, 7.15MB/s]\n",
      "  8%|7         | 11.5M/150M [00:01<00:18, 7.53MB/s]\n",
      "  8%|8         | 12.6M/150M [00:01<00:17, 7.99MB/s]\n",
      "  9%|9         | 13.6M/150M [00:01<00:18, 7.42MB/s]\n",
      " 10%|9         | 14.7M/150M [00:02<00:18, 7.45MB/s]\n",
      " 11%|#         | 15.7M/150M [00:02<00:17, 7.46MB/s]\n",
      " 11%|#1        | 16.8M/150M [00:02<00:17, 7.55MB/s]\n",
      " 12%|#1        | 17.8M/150M [00:02<00:17, 7.66MB/s]\n",
      " 13%|#2        | 18.9M/150M [00:02<00:17, 7.66MB/s]\n",
      " 13%|#3        | 19.9M/150M [00:02<00:16, 7.73MB/s]\n",
      " 14%|#4        | 21.0M/150M [00:02<00:15, 8.04MB/s]\n",
      " 15%|#4        | 22.0M/150M [00:02<00:16, 7.57MB/s]\n",
      " 15%|#5        | 23.1M/150M [00:03<00:16, 7.71MB/s]\n",
      " 16%|#6        | 24.1M/150M [00:03<00:16, 7.83MB/s]\n",
      " 17%|#6        | 25.2M/150M [00:03<00:16, 7.42MB/s]\n",
      " 18%|#7        | 26.2M/150M [00:03<00:16, 7.61MB/s]\n",
      " 18%|#8        | 27.3M/150M [00:03<00:16, 7.60MB/s]\n",
      " 19%|#8        | 28.3M/150M [00:03<00:16, 7.38MB/s]\n",
      " 20%|#9        | 29.4M/150M [00:03<00:16, 7.50MB/s]\n",
      " 20%|##        | 30.4M/150M [00:04<00:26, 4.48MB/s]\n",
      " 21%|##1       | 31.5M/150M [00:04<00:22, 5.28MB/s]\n",
      " 22%|##1       | 32.5M/150M [00:04<00:20, 5.68MB/s]\n",
      " 22%|##2       | 33.6M/150M [00:04<00:22, 5.21MB/s]\n",
      " 23%|##3       | 34.6M/150M [00:05<00:19, 5.95MB/s]\n",
      " 24%|##3       | 35.7M/150M [00:05<00:22, 4.98MB/s]\n",
      " 25%|##4       | 36.7M/150M [00:05<00:20, 5.53MB/s]\n",
      " 25%|##5       | 37.7M/150M [00:05<00:19, 5.72MB/s]\n",
      " 26%|##5       | 38.8M/150M [00:05<00:17, 6.26MB/s]\n",
      " 27%|##6       | 39.8M/150M [00:05<00:16, 6.67MB/s]\n",
      " 27%|##7       | 40.9M/150M [00:06<00:15, 6.81MB/s]\n",
      " 28%|##8       | 41.9M/150M [00:06<00:15, 7.15MB/s]\n",
      " 29%|##8       | 43.0M/150M [00:06<00:14, 7.44MB/s]\n",
      " 29%|##9       | 44.0M/150M [00:06<00:13, 7.54MB/s]\n",
      " 30%|###       | 45.1M/150M [00:06<00:14, 7.40MB/s]\n",
      " 31%|###       | 46.1M/150M [00:06<00:13, 7.70MB/s]\n",
      " 32%|###1      | 47.2M/150M [00:06<00:13, 7.71MB/s]\n",
      " 32%|###2      | 48.2M/150M [00:06<00:13, 7.62MB/s]\n",
      " 33%|###2      | 49.3M/150M [00:07<00:13, 7.63MB/s]\n",
      " 34%|###3      | 50.3M/150M [00:07<00:12, 7.89MB/s]\n",
      " 34%|###4      | 51.4M/150M [00:07<00:12, 7.77MB/s]\n",
      " 35%|###5      | 52.4M/150M [00:07<00:13, 7.39MB/s]\n",
      " 36%|###5      | 53.5M/150M [00:07<00:13, 7.13MB/s]\n",
      " 36%|###6      | 54.5M/150M [00:07<00:13, 7.27MB/s]\n",
      " 37%|###7      | 55.6M/150M [00:07<00:12, 7.49MB/s]\n",
      " 38%|###7      | 56.6M/150M [00:08<00:13, 7.03MB/s]\n",
      " 39%|###8      | 57.7M/150M [00:08<00:12, 7.26MB/s]\n",
      " 39%|###9      | 58.7M/150M [00:08<00:12, 7.38MB/s]\n",
      " 40%|###9      | 59.8M/150M [00:08<00:12, 7.33MB/s]\n",
      " 41%|####      | 60.8M/150M [00:08<00:11, 7.65MB/s]\n",
      " 41%|####1     | 61.9M/150M [00:08<00:12, 7.13MB/s]\n",
      " 42%|####2     | 62.9M/150M [00:08<00:12, 7.19MB/s]\n",
      " 43%|####2     | 64.0M/150M [00:09<00:11, 7.39MB/s]\n",
      " 43%|####3     | 65.0M/150M [00:09<00:11, 7.49MB/s]\n",
      " 44%|####4     | 66.1M/150M [00:09<00:12, 6.70MB/s]\n",
      " 45%|####5     | 67.6M/150M [00:09<00:10, 8.00MB/s]\n",
      " 46%|####5     | 68.7M/150M [00:09<00:10, 8.02MB/s]\n",
      " 47%|####6     | 69.7M/150M [00:09<00:10, 7.70MB/s]\n",
      " 47%|####7     | 70.8M/150M [00:10<00:10, 7.66MB/s]\n",
      " 48%|####8     | 71.8M/150M [00:10<00:10, 7.58MB/s]\n",
      " 49%|####8     | 72.9M/150M [00:10<00:10, 7.54MB/s]\n",
      " 49%|####9     | 73.9M/150M [00:10<00:10, 7.37MB/s]\n",
      " 50%|#####     | 75.0M/150M [00:10<00:10, 7.39MB/s]\n",
      " 51%|#####     | 76.0M/150M [00:10<00:09, 7.44MB/s]\n",
      " 52%|#####1    | 77.1M/150M [00:10<00:09, 7.36MB/s]\n",
      " 52%|#####2    | 78.1M/150M [00:10<00:09, 7.51MB/s]\n",
      " 53%|#####2    | 79.2M/150M [00:11<00:09, 7.72MB/s]\n",
      " 54%|#####3    | 80.2M/150M [00:11<00:09, 7.60MB/s]\n",
      " 54%|#####4    | 81.3M/150M [00:11<00:08, 7.72MB/s]\n",
      " 55%|#####5    | 82.3M/150M [00:11<00:08, 7.95MB/s]\n",
      " 56%|#####5    | 83.4M/150M [00:11<00:08, 7.44MB/s]\n",
      " 56%|#####6    | 84.4M/150M [00:11<00:08, 7.54MB/s]\n",
      " 57%|#####7    | 85.5M/150M [00:11<00:08, 7.59MB/s]\n",
      " 58%|#####7    | 86.5M/150M [00:12<00:08, 7.58MB/s]\n",
      " 59%|#####8    | 87.6M/150M [00:12<00:08, 7.69MB/s]\n",
      " 59%|#####9    | 88.6M/150M [00:12<00:07, 7.87MB/s]\n",
      " 60%|#####9    | 89.7M/150M [00:12<00:07, 8.12MB/s]\n",
      " 61%|######    | 90.7M/150M [00:12<00:07, 7.78MB/s]\n",
      " 61%|######1   | 91.8M/150M [00:12<00:07, 7.52MB/s]\n",
      " 62%|######2   | 92.8M/150M [00:12<00:08, 6.48MB/s]\n",
      " 63%|######2   | 93.8M/150M [00:13<00:09, 5.98MB/s]\n",
      " 63%|######3   | 94.9M/150M [00:13<00:08, 6.35MB/s]\n",
      " 64%|######4   | 95.9M/150M [00:13<00:07, 6.82MB/s]\n",
      " 65%|######4   | 97.0M/150M [00:13<00:07, 6.86MB/s]\n",
      " 66%|######5   | 98.0M/150M [00:13<00:07, 6.90MB/s]\n",
      " 66%|######6   | 99.1M/150M [00:13<00:07, 7.08MB/s]\n",
      " 67%|######6   | 100M/150M [00:14<00:06, 7.18MB/s] \n",
      " 68%|######7   | 101M/150M [00:14<00:06, 7.05MB/s]\n",
      " 68%|######8   | 102M/150M [00:14<00:06, 7.20MB/s]\n",
      " 69%|######9   | 103M/150M [00:14<00:06, 7.52MB/s]\n",
      " 70%|######9   | 104M/150M [00:14<00:05, 7.71MB/s]\n",
      " 70%|#######   | 105M/150M [00:14<00:05, 8.01MB/s]\n",
      " 71%|#######1  | 106M/150M [00:14<00:05, 7.74MB/s]\n",
      " 72%|#######1  | 107M/150M [00:14<00:05, 7.72MB/s]\n",
      " 73%|#######2  | 109M/150M [00:15<00:05, 7.84MB/s]\n",
      " 73%|#######3  | 110M/150M [00:15<00:05, 7.34MB/s]\n",
      " 74%|#######3  | 111M/150M [00:15<00:05, 7.41MB/s]\n",
      " 75%|#######4  | 112M/150M [00:15<00:05, 7.42MB/s]\n",
      " 75%|#######5  | 113M/150M [00:15<00:05, 7.27MB/s]\n",
      " 76%|#######6  | 114M/150M [00:15<00:04, 7.60MB/s]\n",
      " 77%|#######6  | 115M/150M [00:15<00:04, 7.63MB/s]\n",
      " 77%|#######7  | 116M/150M [00:16<00:04, 7.85MB/s]\n",
      " 78%|#######8  | 117M/150M [00:16<00:04, 7.83MB/s]\n",
      " 79%|#######8  | 118M/150M [00:16<00:04, 7.84MB/s]\n",
      " 80%|#######9  | 119M/150M [00:16<00:04, 7.61MB/s]\n",
      " 80%|########  | 120M/150M [00:16<00:03, 7.86MB/s]\n",
      " 81%|########  | 121M/150M [00:16<00:03, 7.47MB/s]\n",
      " 82%|########1 | 122M/150M [00:16<00:03, 7.61MB/s]\n",
      " 82%|########2 | 123M/150M [00:17<00:03, 7.76MB/s]\n",
      " 83%|########3 | 124M/150M [00:17<00:03, 8.04MB/s]\n",
      " 84%|########3 | 125M/150M [00:17<00:03, 7.87MB/s]\n",
      " 84%|########4 | 126M/150M [00:17<00:02, 7.93MB/s]\n",
      " 85%|########5 | 127M/150M [00:17<00:02, 7.88MB/s]\n",
      " 86%|########5 | 128M/150M [00:17<00:02, 7.54MB/s]\n",
      " 87%|########6 | 129M/150M [00:17<00:02, 7.44MB/s]\n",
      " 87%|########7 | 131M/150M [00:18<00:02, 7.31MB/s]\n",
      " 88%|########7 | 132M/150M [00:18<00:02, 6.95MB/s]\n",
      " 89%|########8 | 133M/150M [00:18<00:02, 6.88MB/s]\n",
      " 89%|########9 | 134M/150M [00:18<00:02, 6.42MB/s]\n",
      " 90%|######### | 135M/150M [00:18<00:02, 6.51MB/s]\n",
      " 91%|######### | 136M/150M [00:18<00:02, 6.55MB/s]\n",
      " 91%|#########1| 137M/150M [00:18<00:01, 6.80MB/s]\n",
      " 92%|#########2| 138M/150M [00:19<00:01, 7.11MB/s]\n",
      " 93%|#########2| 139M/150M [00:19<00:01, 7.22MB/s]\n",
      " 94%|#########3| 140M/150M [00:19<00:01, 7.43MB/s]\n",
      " 94%|#########4| 141M/150M [00:19<00:01, 7.59MB/s]\n",
      " 95%|#########4| 142M/150M [00:19<00:01, 7.43MB/s]\n",
      " 96%|#########5| 143M/150M [00:19<00:00, 7.36MB/s]\n",
      " 96%|#########6| 144M/150M [00:19<00:00, 7.32MB/s]\n",
      " 97%|#########7| 145M/150M [00:20<00:00, 7.60MB/s]\n",
      " 98%|#########7| 146M/150M [00:20<00:00, 7.50MB/s]\n",
      " 98%|#########8| 147M/150M [00:20<00:00, 7.84MB/s]\n",
      " 99%|#########9| 148M/150M [00:20<00:00, 7.85MB/s]\n",
      "100%|#########9| 149M/150M [00:20<00:00, 7.82MB/s]\n",
      "100%|##########| 150M/150M [00:20<00:00, 7.25MB/s]\n"
     ]
    }
   ],
   "source": [
    "!gdown --id 1onaG42NZft3wCE1WH0GDEbUhu75fedP5"
   ]
  },
  {
   "cell_type": "markdown",
   "metadata": {},
   "source": [
    "*Troubleshooting: If you get a download error saying \"Cannot retrieve the public link of the file.\", please run the next two cells below to download the dataset. Otherwise, please skip them.*"
   ]
  },
  {
   "cell_type": "code",
   "execution_count": 37,
   "metadata": {},
   "outputs": [
    {
     "name": "stdout",
     "output_type": "stream",
     "text": [
      "Writing download.sh\n"
     ]
    }
   ],
   "source": [
    "%%writefile download.sh\n",
    "\n",
    "#!/bin/bash\n",
    "fileid=\"1onaG42NZft3wCE1WH0GDEbUhu75fedP5\"\n",
    "filename=\"horse-or-human.zip\"\n",
    "html=`curl -c ./cookie -s -L \"https://drive.google.com/uc?export=download&id=${fileid}\"`\n",
    "curl -Lb ./cookie \"https://drive.google.com/uc?export=download&`echo ${html}|grep -Po '(confirm=[a-zA-Z0-9\\-_]+)'`&id=${fileid}\" -o ${filename}"
   ]
  },
  {
   "cell_type": "code",
   "execution_count": 38,
   "metadata": {},
   "outputs": [
    {
     "name": "stderr",
     "output_type": "stream",
     "text": [
      "download.sh: line 1: $'\\r': command not found\n",
      "curl: (3) URL using bad/illegal format or missing URL\n"
     ]
    }
   ],
   "source": [
    "# NOTE: Please only run this if downloading with gdown did not work.\n",
    "# This will run the script created above.\n",
    "!bash download.sh"
   ]
  },
  {
   "cell_type": "markdown",
   "metadata": {},
   "source": [
    "This will download the validation set:"
   ]
  },
  {
   "cell_type": "code",
   "execution_count": 39,
   "metadata": {
    "id": "0mLij6qde6Ox"
   },
   "outputs": [
    {
     "name": "stderr",
     "output_type": "stream",
     "text": [
      "C:\\Users\\devas\\AppData\\Local\\pypoetry\\Cache\\virtualenvs\\tensorflow-1-public-cSeBuBzT-py3.7\\lib\\site-packages\\gdown\\cli.py:131: FutureWarning: Option `--id` was deprecated in version 4.3.1 and will be removed in 5.0. You don't need to pass it anymore to use a file ID.\n",
      "  category=FutureWarning,\n",
      "Downloading...\n",
      "From: https://drive.google.com/uc?id=1LYeusSEIiZQpwN-mthh5nKdA75VsKG1U\n",
      "To: D:\\Source\\Sandoxes\\tensorflow-1-public\\C1\\W4\\ungraded_labs\\validation-horse-or-human.zip\n",
      "\n",
      "  0%|          | 0.00/11.5M [00:00<?, ?B/s]\n",
      "  5%|4         | 524k/11.5M [00:00<00:02, 4.14MB/s]\n",
      " 14%|#3        | 1.57M/11.5M [00:00<00:01, 6.00MB/s]\n",
      " 23%|##2       | 2.62M/11.5M [00:00<00:01, 6.52MB/s]\n",
      " 32%|###1      | 3.67M/11.5M [00:00<00:01, 7.14MB/s]\n",
      " 41%|####1     | 4.72M/11.5M [00:00<00:00, 7.69MB/s]\n",
      " 50%|#####     | 5.77M/11.5M [00:00<00:00, 7.96MB/s]\n",
      " 59%|#####9    | 6.82M/11.5M [00:00<00:00, 7.70MB/s]\n",
      " 69%|######8   | 7.86M/11.5M [00:01<00:00, 7.70MB/s]\n",
      " 78%|#######7  | 8.91M/11.5M [00:01<00:00, 7.92MB/s]\n",
      " 87%|########6 | 9.96M/11.5M [00:01<00:00, 7.86MB/s]\n",
      " 96%|#########5| 11.0M/11.5M [00:01<00:00, 8.06MB/s]\n",
      "100%|##########| 11.5M/11.5M [00:01<00:00, 7.64MB/s]\n"
     ]
    }
   ],
   "source": [
    "# Download the validation set\n",
    "!gdown --id 1LYeusSEIiZQpwN-mthh5nKdA75VsKG1U"
   ]
  },
  {
   "cell_type": "markdown",
   "metadata": {
    "id": "9brUxyTpYZHy"
   },
   "source": [
    "Then unzip them:"
   ]
  },
  {
   "cell_type": "code",
   "execution_count": 40,
   "metadata": {
    "id": "PLy3pthUS0D2"
   },
   "outputs": [],
   "source": [
    "import zipfile\n",
    "\n",
    "# Unzip training set\n",
    "local_zip = './horse-or-human.zip'\n",
    "zip_ref = zipfile.ZipFile(local_zip, 'r')\n",
    "zip_ref.extractall('./horse-or-human')\n",
    "\n",
    "# Unzip validation set\n",
    "local_zip = './validation-horse-or-human.zip'\n",
    "zip_ref = zipfile.ZipFile(local_zip, 'r')\n",
    "zip_ref.extractall('./validation-horse-or-human')\n",
    "\n",
    "zip_ref.close()"
   ]
  },
  {
   "cell_type": "markdown",
   "metadata": {
    "id": "o-qUPyfO7Qr8"
   },
   "source": [
    "Then define the directories containing the images:"
   ]
  },
  {
   "cell_type": "code",
   "execution_count": 41,
   "metadata": {
    "id": "NR_M9nWN-K8B"
   },
   "outputs": [],
   "source": [
    "import os\n",
    "\n",
    "# Directory with training horse pictures\n",
    "train_horse_dir = os.path.join('./horse-or-human/horses')\n",
    "\n",
    "# Directory with training human pictures\n",
    "train_human_dir = os.path.join('./horse-or-human/humans')\n",
    "\n",
    "# Directory with validation horse pictures\n",
    "validation_horse_dir = os.path.join('./validation-horse-or-human/horses')\n",
    "\n",
    "# Directory with validation human pictures\n",
    "validation_human_dir = os.path.join('./validation-horse-or-human/humans')"
   ]
  },
  {
   "cell_type": "markdown",
   "metadata": {
    "id": "z1wrZCxTPw4m"
   },
   "source": [
    "You can check that the directories are not empty and that the train set has more images than the validation set:"
   ]
  },
  {
   "cell_type": "code",
   "execution_count": 42,
   "metadata": {},
   "outputs": [
    {
     "name": "stdout",
     "output_type": "stream",
     "text": [
      "TRAIN SET HORSES: ['horse01-0.png', 'horse01-1.png', 'horse01-2.png', 'horse01-3.png', 'horse01-4.png', 'horse01-5.png', 'horse01-6.png', 'horse01-7.png', 'horse01-8.png', 'horse01-9.png']\n",
      "TRAIN SET HUMANS: ['human01-00.png', 'human01-01.png', 'human01-02.png', 'human01-03.png', 'human01-04.png', 'human01-05.png', 'human01-06.png', 'human01-07.png', 'human01-08.png', 'human01-09.png']\n",
      "VAL SET HORSES: ['horse1-000.png', 'horse1-105.png', 'horse1-122.png', 'horse1-127.png', 'horse1-170.png', 'horse1-204.png', 'horse1-224.png', 'horse1-241.png', 'horse1-264.png', 'horse1-276.png']\n",
      "VAL SET HUMANS: ['valhuman01-00.png', 'valhuman01-01.png', 'valhuman01-02.png', 'valhuman01-03.png', 'valhuman01-04.png', 'valhuman01-05.png', 'valhuman01-06.png', 'valhuman01-07.png', 'valhuman01-08.png', 'valhuman01-09.png']\n"
     ]
    }
   ],
   "source": [
    "train_horse_names = os.listdir(train_horse_dir)\n",
    "print(f'TRAIN SET HORSES: {train_horse_names[:10]}')\n",
    "\n",
    "train_human_names = os.listdir(train_human_dir)\n",
    "print(f'TRAIN SET HUMANS: {train_human_names[:10]}')\n",
    "\n",
    "validation_horse_hames = os.listdir(validation_horse_dir)\n",
    "print(f'VAL SET HORSES: {validation_horse_hames[:10]}')\n",
    "\n",
    "validation_human_names = os.listdir(validation_human_dir)\n",
    "print(f'VAL SET HUMANS: {validation_human_names[:10]}')"
   ]
  },
  {
   "cell_type": "code",
   "execution_count": 43,
   "metadata": {
    "id": "ZTpdVrBg2LZC"
   },
   "outputs": [
    {
     "name": "stdout",
     "output_type": "stream",
     "text": [
      "total training horse images: 500\n",
      "total training human images: 527\n",
      "total validation horse images: 128\n",
      "total validation human images: 128\n"
     ]
    }
   ],
   "source": [
    "print(f'total training horse images: {len(os.listdir(train_horse_dir))}')\n",
    "print(f'total training human images: {len(os.listdir(train_human_dir))}')\n",
    "print(f'total validation horse images: {len(os.listdir(validation_horse_dir))}')\n",
    "print(f'total validation human images: {len(os.listdir(validation_human_dir))}')"
   ]
  },
  {
   "cell_type": "markdown",
   "metadata": {
    "id": "5oqBkNBJmtUv"
   },
   "source": [
    "## Build the Model\n",
    "\n",
    "The model will follow the same architecture as before but they key difference is in the `input_shape` parameter of the first `Conv2D` layer. Since you will be compacting the images later in the generator, you need to specify the expected image size here. So instead of 300x300 as in the previous two labs, you specify a smaller 150x150 array."
   ]
  },
  {
   "cell_type": "code",
   "execution_count": 58,
   "metadata": {
    "id": "PixZ2s5QbYQ3"
   },
   "outputs": [],
   "source": [
    "import tensorflow as tf\n",
    "\n",
    "model = tf.keras.models.Sequential([\n",
    "    # Note the input shape is the desired size of the image 150x150 with 3 bytes color\n",
    "    # This is the first convolution\n",
    "    tf.keras.layers.Conv2D(16, (3,3), activation='relu', input_shape=(150, 150, 3)),\n",
    "    tf.keras.layers.MaxPooling2D(2, 2),\n",
    "    # The second convolution\n",
    "    tf.keras.layers.Conv2D(32, (3,3), activation='relu'),\n",
    "    tf.keras.layers.MaxPooling2D(2,2),\n",
    "    # The third convolution\n",
    "    tf.keras.layers.Conv2D(64, (3,3), activation='relu'),\n",
    "    tf.keras.layers.MaxPooling2D(2,2),\n",
    "#     # The fourth convolution (You can uncomment the 4th and 5th conv layers later to see the effect)\n",
    "#     tf.keras.layers.Conv2D(64, (3,3), activation='relu'),\n",
    "#     tf.keras.layers.MaxPooling2D(2,2),\n",
    "#     # The fifth convolution\n",
    "#     tf.keras.layers.Conv2D(64, (3,3), activation='relu'),\n",
    "#     tf.keras.layers.MaxPooling2D(2,2),\n",
    "    # Flatten the results to feed into a DNN\n",
    "    tf.keras.layers.Flatten(),\n",
    "    # 512 neuron hidden layer\n",
    "    tf.keras.layers.Dense(512, activation='relu'),\n",
    "    # Only 1 output neuron. It will contain a value from 0-1 where 0 for 1 class ('horses') and 1 for the other ('humans')\n",
    "    tf.keras.layers.Dense(1, activation='sigmoid')\n",
    "])"
   ]
  },
  {
   "cell_type": "markdown",
   "metadata": {
    "id": "s9EaFDP5srBa"
   },
   "source": [
    "You can see the difference from previous models when you print the `model.summary()`. As expected, there will be less inputs to the `Dense` layer at the end of the model compared to the previous labs. This is because you used the same number of max pooling layers in your model. And since you have a smaller image to begin with (150 x 150), then the output after all the pooling layers will also be smaller."
   ]
  },
  {
   "cell_type": "code",
   "execution_count": 59,
   "metadata": {
    "id": "7ZKj8392nbgP"
   },
   "outputs": [
    {
     "name": "stdout",
     "output_type": "stream",
     "text": [
      "Model: \"sequential_5\"\n",
      "_________________________________________________________________\n",
      " Layer (type)                Output Shape              Param #   \n",
      "=================================================================\n",
      " conv2d_15 (Conv2D)          (None, 148, 148, 16)      448       \n",
      "                                                                 \n",
      " max_pooling2d_15 (MaxPoolin  (None, 74, 74, 16)       0         \n",
      " g2D)                                                            \n",
      "                                                                 \n",
      " conv2d_16 (Conv2D)          (None, 72, 72, 32)        4640      \n",
      "                                                                 \n",
      " max_pooling2d_16 (MaxPoolin  (None, 36, 36, 32)       0         \n",
      " g2D)                                                            \n",
      "                                                                 \n",
      " conv2d_17 (Conv2D)          (None, 34, 34, 64)        18496     \n",
      "                                                                 \n",
      " max_pooling2d_17 (MaxPoolin  (None, 17, 17, 64)       0         \n",
      " g2D)                                                            \n",
      "                                                                 \n",
      " flatten_5 (Flatten)         (None, 18496)             0         \n",
      "                                                                 \n",
      " dense_10 (Dense)            (None, 512)               9470464   \n",
      "                                                                 \n",
      " dense_11 (Dense)            (None, 1)                 513       \n",
      "                                                                 \n",
      "=================================================================\n",
      "Total params: 9,494,561\n",
      "Trainable params: 9,494,561\n",
      "Non-trainable params: 0\n",
      "_________________________________________________________________\n"
     ]
    }
   ],
   "source": [
    "model.summary()"
   ]
  },
  {
   "cell_type": "markdown",
   "metadata": {
    "id": "PEkKSpZlvJXA"
   },
   "source": [
    "You will use the same settings for training:"
   ]
  },
  {
   "cell_type": "code",
   "execution_count": 60,
   "metadata": {
    "id": "8DHWhFP_uhq3"
   },
   "outputs": [],
   "source": [
    "from tensorflow.keras.optimizers import RMSprop\n",
    "\n",
    "model.compile(loss='binary_crossentropy',\n",
    "              optimizer=RMSprop(learning_rate=0.001),\n",
    "              metrics=['accuracy'])"
   ]
  },
  {
   "cell_type": "markdown",
   "metadata": {
    "id": "Sn9m9D3UimHM"
   },
   "source": [
    "### Data Preprocessing\n",
    "\n",
    "Now you will instantiate the data generators. As mentioned before, you will be compacting the image by specifying the `target_size` parameter. See the simple change below:"
   ]
  },
  {
   "cell_type": "code",
   "execution_count": 61,
   "metadata": {
    "id": "ClebU9NJg99G"
   },
   "outputs": [
    {
     "name": "stdout",
     "output_type": "stream",
     "text": [
      "Found 1027 images belonging to 2 classes.\n",
      "Found 256 images belonging to 2 classes.\n"
     ]
    }
   ],
   "source": [
    "from tensorflow.keras.preprocessing.image import ImageDataGenerator\n",
    "\n",
    "# All images will be rescaled by 1./255\n",
    "train_datagen = ImageDataGenerator(rescale=1/255)\n",
    "validation_datagen = ImageDataGenerator(rescale=1/255)\n",
    "\n",
    "# Flow training images in batches of 128 using train_datagen generator\n",
    "train_generator = train_datagen.flow_from_directory(\n",
    "        './horse-or-human/',  # This is the source directory for training images\n",
    "        target_size=(150, 150),  # All images will be resized to 150x150\n",
    "        batch_size=128,\n",
    "        # Since you used binary_crossentropy loss, you need binary labels\n",
    "        class_mode='binary')\n",
    "\n",
    "# Flow training images in batches of 128 using train_datagen generator\n",
    "validation_generator = validation_datagen.flow_from_directory(\n",
    "        './validation-horse-or-human/',  # This is the source directory for training images\n",
    "        target_size=(150, 150),  # All images will be resized to 150x150\n",
    "        batch_size=32,\n",
    "        # Since you used binary_crossentropy loss, you need binary labels\n",
    "        class_mode='binary')"
   ]
  },
  {
   "cell_type": "markdown",
   "metadata": {
    "id": "mu3Jdwkjwax4"
   },
   "source": [
    "### Training\n",
    "\n",
    "Now you're ready to train and see the results. Note your observations about how fast the model trains and the accuracies you're getting in the train and validation sets."
   ]
  },
  {
   "cell_type": "code",
   "execution_count": 62,
   "metadata": {
    "id": "Fb1_lgobv81m"
   },
   "outputs": [
    {
     "name": "stdout",
     "output_type": "stream",
     "text": [
      "Epoch 1/15\n",
      "8/8 [==============================] - 6s 659ms/step - loss: 1.6647 - accuracy: 0.5625 - val_loss: 0.4900 - val_accuracy: 0.8633\n",
      "Epoch 2/15\n",
      "8/8 [==============================] - 5s 551ms/step - loss: 0.5666 - accuracy: 0.7486 - val_loss: 0.6857 - val_accuracy: 0.6484\n",
      "Epoch 3/15\n",
      "8/8 [==============================] - 4s 527ms/step - loss: 0.6523 - accuracy: 0.7408 - val_loss: 0.3872 - val_accuracy: 0.8477\n",
      "Epoch 4/15\n",
      "8/8 [==============================] - 5s 555ms/step - loss: 0.6153 - accuracy: 0.8743 - val_loss: 0.6328 - val_accuracy: 0.7891\n",
      "Epoch 5/15\n",
      "8/8 [==============================] - 5s 579ms/step - loss: 0.2237 - accuracy: 0.9043 - val_loss: 0.2874 - val_accuracy: 0.9023\n",
      "Epoch 6/15\n",
      "8/8 [==============================] - 4s 556ms/step - loss: 0.1448 - accuracy: 0.9477 - val_loss: 0.5293 - val_accuracy: 0.8320\n",
      "Epoch 7/15\n",
      "8/8 [==============================] - 4s 528ms/step - loss: 0.5368 - accuracy: 0.8409 - val_loss: 0.7291 - val_accuracy: 0.8008\n",
      "Epoch 8/15\n",
      "8/8 [==============================] - 4s 531ms/step - loss: 0.0579 - accuracy: 0.9844 - val_loss: 0.8459 - val_accuracy: 0.8672\n",
      "Epoch 9/15\n",
      "8/8 [==============================] - 5s 571ms/step - loss: 0.0579 - accuracy: 0.9778 - val_loss: 1.1017 - val_accuracy: 0.8086\n",
      "Epoch 10/15\n",
      "8/8 [==============================] - 4s 560ms/step - loss: 0.0407 - accuracy: 0.9855 - val_loss: 0.1852 - val_accuracy: 0.9258\n",
      "Epoch 11/15\n",
      "8/8 [==============================] - 5s 566ms/step - loss: 0.3221 - accuracy: 0.8821 - val_loss: 0.6126 - val_accuracy: 0.8008\n",
      "Epoch 12/15\n",
      "8/8 [==============================] - 5s 644ms/step - loss: 0.1047 - accuracy: 0.9644 - val_loss: 0.8265 - val_accuracy: 0.8242\n",
      "Epoch 13/15\n",
      "8/8 [==============================] - 5s 599ms/step - loss: 0.0150 - accuracy: 0.9961 - val_loss: 0.9675 - val_accuracy: 0.8438\n",
      "Epoch 14/15\n",
      "8/8 [==============================] - 4s 553ms/step - loss: 0.0071 - accuracy: 0.9978 - val_loss: 1.2068 - val_accuracy: 0.8320\n",
      "Epoch 15/15\n",
      "8/8 [==============================] - 4s 533ms/step - loss: 0.0029 - accuracy: 1.0000 - val_loss: 1.2993 - val_accuracy: 0.8398\n"
     ]
    }
   ],
   "source": [
    "history = model.fit(\n",
    "      train_generator,\n",
    "      steps_per_epoch=8,  \n",
    "      epochs=15,\n",
    "      verbose=1,\n",
    "      validation_data = validation_generator,\n",
    "      validation_steps=8,\n",
    "      callbacks=[tf.keras.callbacks.TensorBoard(log_dir=\"logs\", profile_batch=1)])"
   ]
  },
  {
   "cell_type": "code",
   "execution_count": 51,
   "outputs": [
    {
     "data": {
      "text/plain": "<Figure size 1008x288 with 2 Axes>",
      "image/png": "[encoded data removed]"
     },
     "metadata": {
      "needs_background": "light"
     },
     "output_type": "display_data"
    }
   ],
   "source": [
    "import matplotlib.pyplot as plt\n",
    "plt.figure(figsize=(14, 4))\n",
    "\n",
    "plt.subplot(1, 2, 1)\n",
    "plt.plot(history.history[\"accuracy\"])\n",
    "plt.plot(history.history[\"val_accuracy\"])\n",
    "plt.title(\"Accuracy\")\n",
    "plt.xlabel(\"epoch\")\n",
    "plt.legend([\"train\", \"validation\"])\n",
    "\n",
    "plt.subplot(1, 2, 2)\n",
    "plt.plot(history.history[\"loss\"])\n",
    "plt.plot(history.history[\"val_loss\"])\n",
    "plt.title(\"Loss\")\n",
    "plt.xlabel(\"epoch\")\n",
    "plt.legend([\"train\", \"validation\"])\n",
    "plt.show()"
   ],
   "metadata": {
    "collapsed": false,
    "pycharm": {
     "name": "#%%\n"
    }
   }
  },
  {
   "cell_type": "markdown",
   "metadata": {
    "id": "o6vSHzPR2ghH"
   },
   "source": [
    "### Model Prediction\n",
    "\n",
    "As usual, it is also good practice to try running your model over some handpicked images. See if you got better, worse, or the same performance as the previous lab.\n",
    "\n",
    "**Important Note:** Due to some compatibility issues, the following code block will result in an error after you select the images(s) to upload if you are running this notebook as a `Colab` on the `Safari` browser. For all other browsers, continue with the next code block and ignore the next one after it.\n",
    "\n",
    "_For Safari users: please comment out or skip the code block below, uncomment the next code block and run it._"
   ]
  },
  {
   "cell_type": "code",
   "execution_count": 50,
   "metadata": {
    "id": "DoWp43WxJDNT"
   },
   "outputs": [
    {
     "ename": "ModuleNotFoundError",
     "evalue": "No module named 'google.colab'",
     "output_type": "error",
     "traceback": [
      "\u001B[1;31m---------------------------------------------------------------------------\u001B[0m",
      "\u001B[1;31mModuleNotFoundError\u001B[0m                       Traceback (most recent call last)",
      "\u001B[1;32m~\\AppData\\Local\\Temp\\ipykernel_17580\\738985616.py\u001B[0m in \u001B[0;36m<module>\u001B[1;34m\u001B[0m\n\u001B[0;32m      3\u001B[0m \u001B[1;33m\u001B[0m\u001B[0m\n\u001B[0;32m      4\u001B[0m \u001B[1;32mimport\u001B[0m \u001B[0mnumpy\u001B[0m \u001B[1;32mas\u001B[0m \u001B[0mnp\u001B[0m\u001B[1;33m\u001B[0m\u001B[1;33m\u001B[0m\u001B[0m\n\u001B[1;32m----> 5\u001B[1;33m \u001B[1;32mfrom\u001B[0m \u001B[0mgoogle\u001B[0m\u001B[1;33m.\u001B[0m\u001B[0mcolab\u001B[0m \u001B[1;32mimport\u001B[0m \u001B[0mfiles\u001B[0m\u001B[1;33m\u001B[0m\u001B[1;33m\u001B[0m\u001B[0m\n\u001B[0m\u001B[0;32m      6\u001B[0m \u001B[1;32mfrom\u001B[0m \u001B[0mkeras\u001B[0m\u001B[1;33m.\u001B[0m\u001B[0mpreprocessing\u001B[0m \u001B[1;32mimport\u001B[0m \u001B[0mimage\u001B[0m\u001B[1;33m\u001B[0m\u001B[1;33m\u001B[0m\u001B[0m\n\u001B[0;32m      7\u001B[0m \u001B[1;33m\u001B[0m\u001B[0m\n",
      "\u001B[1;31mModuleNotFoundError\u001B[0m: No module named 'google.colab'"
     ]
    }
   ],
   "source": [
    "## CODE BLOCK FOR NON-SAFARI BROWSERS\n",
    "## SAFARI USERS: PLEASE SKIP THIS BLOCK AND RUN THE NEXT ONE INSTEAD\n",
    "\n",
    "import numpy as np\n",
    "from google.colab import files\n",
    "from keras.preprocessing import image\n",
    "\n",
    "uploaded = files.upload()\n",
    "\n",
    "for fn in uploaded.keys():\n",
    " \n",
    "  # predicting images\n",
    "  path = '/content/' + fn\n",
    "  img = image.load_img(path, target_size=(150, 150))\n",
    "  x = image.img_to_array(img)\n",
    "  x /= 255\n",
    "  x = np.expand_dims(x, axis=0)\n",
    "\n",
    "  images = np.vstack([x])\n",
    "  classes = model.predict(images, batch_size=10)\n",
    "  print(classes[0])\n",
    "  if classes[0]>0.5:\n",
    "    print(fn + \" is a human\")\n",
    "  else:\n",
    "    print(fn + \" is a horse\")\n",
    " "
   ]
  },
  {
   "cell_type": "markdown",
   "metadata": {
    "id": "ckps9Sw4657d"
   },
   "source": [
    "`Safari` users will need to upload the images(s) manually in their workspace. Please follow the instructions, uncomment the code block below and run it.\n",
    "\n",
    "Instructions on how to upload image(s) manually in a Colab:\n",
    "\n",
    "1. Select the `folder` icon on the left `menu bar`.\n",
    "2. Click on the `folder with an arrow pointing upwards` named `..`\n",
    "3. Click on the `folder` named `tmp`.\n",
    "4. Inside of the `tmp` folder, `create a new folder` called `images`. You'll see the `New folder` option by clicking the `3 vertical dots` menu button next to the `tmp` folder.\n",
    "5. Inside of the new `images` folder, upload an image(s) of your choice, preferably of either a horse or a human. Drag and drop the images(s) on top of the `images` folder.\n",
    "6. Uncomment and run the code block below. "
   ]
  },
  {
   "cell_type": "code",
   "execution_count": null,
   "metadata": {
    "id": "v_GgQjRT65oM"
   },
   "outputs": [],
   "source": [
    "# # CODE BLOCK FOR SAFARI USERS\n",
    "\n",
    "# import numpy as np\n",
    "# from keras.preprocessing import image\n",
    "# import os\n",
    "\n",
    "# images = os.listdir(\"/tmp/images\")\n",
    "\n",
    "# print(images)\n",
    "\n",
    "# for i in images:\n",
    "#  print()\n",
    "#  # predicting images\n",
    "#  path = '/tmp/images/' + i\n",
    "#  img = image.load_img(path, target_size=(150, 150))\n",
    "#  x = image.img_to_array(img)\n",
    "#  x /= 255\n",
    "#  x = np.expand_dims(x, axis=0)\n",
    "\n",
    "#  images = np.vstack([x])\n",
    "#  classes = model.predict(images, batch_size=10)\n",
    "#  print(classes[0])\n",
    "#  if classes[0]>0.5:\n",
    "#    print(i + \" is a human\")\n",
    "#  else:\n",
    "#    print(i + \" is a horse\")"
   ]
  },
  {
   "cell_type": "markdown",
   "metadata": {
    "id": "-8EHQyWGDvWz"
   },
   "source": [
    "### Visualizing Intermediate Representations\n",
    "\n",
    "You can also look again at the intermediate representations. You will notice that the output at the last convolution layer is even more abstract because it contains fewer pixels than before."
   ]
  },
  {
   "cell_type": "code",
   "execution_count": null,
   "metadata": {
    "id": "-5tES8rXFjux"
   },
   "outputs": [],
   "source": [
    "%matplotlib inline\n",
    "\n",
    "import matplotlib.pyplot as plt\n",
    "import numpy as np\n",
    "import random\n",
    "from tensorflow.keras.preprocessing.image import img_to_array, load_img\n",
    "\n",
    "# Define a new Model that will take an image as input, and will output\n",
    "# intermediate representations for all layers in the previous model after\n",
    "# the first.\n",
    "successive_outputs = [layer.output for layer in model.layers[1:]]\n",
    "visualization_model = tf.keras.models.Model(inputs = model.input, outputs = successive_outputs)\n",
    "\n",
    "# Prepare a random input image from the training set.\n",
    "horse_img_files = [os.path.join(train_horse_dir, f) for f in train_horse_names]\n",
    "human_img_files = [os.path.join(train_human_dir, f) for f in train_human_names]\n",
    "img_path = random.choice(horse_img_files + human_img_files)\n",
    "img = load_img(img_path, target_size=(150, 150))  # this is a PIL image\n",
    "x = img_to_array(img)  # Numpy array with shape (150, 150, 3)\n",
    "x = x.reshape((1,) + x.shape)  # Numpy array with shape (1, 150, 150, 3)\n",
    "\n",
    "# Scale by 1/255\n",
    "x /= 255\n",
    "\n",
    "# Run the image through the network, thus obtaining all\n",
    "# intermediate representations for this image.\n",
    "successive_feature_maps = visualization_model.predict(x)\n",
    "\n",
    "# These are the names of the layers, so you can have them as part of the plot\n",
    "layer_names = [layer.name for layer in model.layers[1:]]\n",
    "\n",
    "# Display the representations\n",
    "for layer_name, feature_map in zip(layer_names, successive_feature_maps):\n",
    "  if len(feature_map.shape) == 4:\n",
    "\n",
    "    # Just do this for the conv / maxpool layers, not the fully-connected layers\n",
    "    n_features = feature_map.shape[-1]  # number of features in feature map\n",
    "\n",
    "    # The feature map has shape (1, size, size, n_features)\n",
    "    size = feature_map.shape[1]\n",
    "    \n",
    "    # Tile the images in this matrix\n",
    "    display_grid = np.zeros((size, size * n_features))\n",
    "    for i in range(n_features):\n",
    "      x = feature_map[0, :, :, i]\n",
    "      x -= x.mean()\n",
    "      x /= x.std()\n",
    "      x *= 64\n",
    "      x += 128\n",
    "      x = np.clip(x, 0, 255).astype('uint8')\n",
    "    \n",
    "      # Tile each filter into this big horizontal grid\n",
    "      display_grid[:, i * size : (i + 1) * size] = x\n",
    "    \n",
    "    # Display the grid\n",
    "    scale = 20. / n_features\n",
    "    plt.figure(figsize=(scale * n_features, scale))\n",
    "    plt.title(layer_name)\n",
    "    plt.grid(False)\n",
    "    plt.imshow(display_grid, aspect='auto', cmap='viridis')"
   ]
  },
  {
   "cell_type": "markdown",
   "metadata": {
    "id": "j4IBgYCYooGD"
   },
   "source": [
    "## Clean Up\n",
    "\n",
    "Please run the following cell to terminate the kernel and free memory resources:"
   ]
  },
  {
   "cell_type": "code",
   "execution_count": null,
   "metadata": {
    "id": "651IgjLyo-Jx"
   },
   "outputs": [],
   "source": [
    "import os, signal\n",
    "os.kill(os.getpid(), signal.SIGKILL)"
   ]
  },
  {
   "cell_type": "markdown",
   "metadata": {
    "id": "tFnBvcIrXWW2"
   },
   "source": [
    "## Wrap Up\n",
    "\n",
    "In this lab, you saw how compacting images affected your previous model. This is one technique to keep in mind especially when you are still in the exploratory phase of your own projects. You can see if a smaller model behaves just as well as a large model so you can have faster training. You also saw how easy it is to customize your images for this adjustment in size by simply changing a parameter in the `ImageDataGenerator` class."
   ]
  }
 ],
 "metadata": {
  "accelerator": "GPU",
  "colab": {
   "collapsed_sections": [],
   "name": "C1_W4_Lab_3_compacted_images.ipynb",
   "private_outputs": true,
   "provenance": [
    {
     "file_id": "https://github.com/https-deeplearning-ai/tensorflow-1-public/blob/adding_C1/C1/W4/ungraded_labs/C1_W4_Lab_3_compacted_images.ipynb",
     "timestamp": 1639112249467
    }
   ],
   "toc_visible": true
  },
  "kernelspec": {
   "display_name": "Python 3",
   "language": "python",
   "name": "python3"
  },
  "language_info": {
   "codemirror_mode": {
    "name": "ipython",
    "version": 3
   },
   "file_extension": ".py",
   "mimetype": "text/x-python",
   "name": "python",
   "nbconvert_exporter": "python",
   "pygments_lexer": "ipython3",
   "version": "3.7.4"
  }
 },
 "nbformat": 4,
 "nbformat_minor": 1
}