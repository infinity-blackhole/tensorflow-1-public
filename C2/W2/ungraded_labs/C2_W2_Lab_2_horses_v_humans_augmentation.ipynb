{
 "cells": [
  {
   "cell_type": "markdown",
   "metadata": {},
   "source": [
    "<a href=\"https://colab.research.google.com/github/https-deeplearning-ai/tensorflow-1-public/blob/master/C2/W2/ungraded_labs/C2_W2_Lab_2_horses_v_humans_augmentation.ipynb\" target=\"_parent\"><img src=\"https://colab.research.google.com/assets/colab-badge.svg\" alt=\"Open In Colab\"/></a>"
   ]
  },
  {
   "cell_type": "markdown",
   "metadata": {
    "id": "37v_yExZppEp"
   },
   "source": [
    "# Ungraded Lab: Data Augmentation on the Horses or Humans Dataset\n",
    "\n",
    "In the previous lab, you saw how data augmentation helped improve the model's performance on unseen data. By tweaking the cat and dog training images, the model was able to learn features that are also representative of the validation data. However, applying data augmentation requires good understanding of your dataset. Simply transforming it randomly will not always yield good results. \n",
    "\n",
    "In the next cells, you will apply the same techniques to the `Horses or Humans` dataset and analyze the results."
   ]
  },
  {
   "cell_type": "code",
   "execution_count": 1,
   "metadata": {
    "id": "Lslf0vB3rQlU"
   },
   "outputs": [
    {
     "name": "stderr",
     "output_type": "stream",
     "text": [
      "C:\\Users\\devas\\AppData\\Local\\pypoetry\\Cache\\virtualenvs\\tensorflow-1-public-cSeBuBzT-py3.7\\lib\\site-packages\\gdown\\cli.py:131: FutureWarning: Option `--id` was deprecated in version 4.3.1 and will be removed in 5.0. You don't need to pass it anymore to use a file ID.\n",
      "  category=FutureWarning,\n",
      "Downloading...\n",
      "From: https://drive.google.com/uc?id=1onaG42NZft3wCE1WH0GDEbUhu75fedP5\n",
      "To: D:\\Source\\Sandoxes\\tensorflow-1-public\\C2\\W2\\ungraded_labs\\horse-or-human.zip\n",
      "\n",
      "  0%|          | 0.00/150M [00:00<?, ?B/s]\n",
      "  0%|          | 524k/150M [00:00<00:38, 3.89MB/s]\n",
      "  1%|1         | 1.57M/150M [00:00<00:22, 6.63MB/s]\n",
      "  2%|1         | 2.62M/150M [00:00<00:20, 7.10MB/s]\n",
      "  2%|2         | 3.67M/150M [00:00<00:19, 7.47MB/s]\n",
      "  3%|3         | 4.72M/150M [00:00<00:19, 7.46MB/s]\n",
      "  4%|3         | 5.77M/150M [00:00<00:18, 7.60MB/s]\n",
      "  5%|4         | 6.82M/150M [00:00<00:19, 7.42MB/s]\n",
      "  5%|5         | 7.86M/150M [00:01<00:18, 7.83MB/s]\n",
      "  6%|5         | 8.91M/150M [00:01<00:17, 8.24MB/s]\n",
      "  7%|6         | 9.96M/150M [00:01<00:16, 8.40MB/s]\n",
      "  7%|7         | 11.0M/150M [00:01<00:17, 8.05MB/s]\n",
      "  8%|8         | 12.1M/150M [00:01<00:16, 8.22MB/s]\n",
      "  9%|8         | 13.1M/150M [00:01<00:16, 8.24MB/s]\n",
      "  9%|9         | 14.2M/150M [00:01<00:17, 7.80MB/s]\n",
      " 10%|#         | 15.2M/150M [00:02<00:21, 6.28MB/s]\n",
      " 11%|#1        | 16.8M/150M [00:02<00:17, 7.52MB/s]\n",
      " 12%|#1        | 17.8M/150M [00:02<00:22, 5.94MB/s]\n",
      " 13%|#2        | 18.9M/150M [00:02<00:23, 5.54MB/s]\n",
      " 13%|#3        | 19.9M/150M [00:02<00:20, 6.30MB/s]\n",
      " 14%|#4        | 21.0M/150M [00:02<00:19, 6.66MB/s]\n",
      " 15%|#4        | 22.0M/150M [00:03<00:19, 6.71MB/s]\n",
      " 16%|#5        | 23.6M/150M [00:03<00:17, 7.29MB/s]\n",
      " 16%|#6        | 24.6M/150M [00:03<00:15, 7.82MB/s]\n",
      " 17%|#7        | 25.7M/150M [00:03<00:15, 7.87MB/s]\n",
      " 18%|#7        | 26.7M/150M [00:03<00:15, 7.82MB/s]\n",
      " 19%|#8        | 27.8M/150M [00:03<00:15, 7.76MB/s]\n",
      " 19%|#9        | 28.8M/150M [00:03<00:14, 8.29MB/s]\n",
      " 20%|#9        | 29.9M/150M [00:04<00:14, 8.14MB/s]\n",
      " 21%|##        | 30.9M/150M [00:04<00:13, 8.61MB/s]\n",
      " 21%|##1       | 32.0M/150M [00:04<00:14, 8.32MB/s]\n",
      " 22%|##2       | 33.0M/150M [00:04<00:15, 7.32MB/s]\n",
      " 23%|##2       | 34.1M/150M [00:04<00:15, 7.52MB/s]\n",
      " 23%|##3       | 35.1M/150M [00:04<00:14, 7.96MB/s]\n",
      " 24%|##4       | 36.2M/150M [00:04<00:15, 7.39MB/s]\n",
      " 25%|##4       | 37.2M/150M [00:05<00:14, 7.94MB/s]\n",
      " 26%|##5       | 38.3M/150M [00:05<00:17, 6.26MB/s]\n",
      " 26%|##6       | 39.3M/150M [00:05<00:15, 6.97MB/s]\n",
      " 27%|##6       | 40.4M/150M [00:05<00:14, 7.34MB/s]\n",
      " 28%|##7       | 41.4M/150M [00:05<00:13, 7.96MB/s]\n",
      " 28%|##8       | 42.5M/150M [00:05<00:12, 8.42MB/s]\n",
      " 29%|##9       | 43.5M/150M [00:05<00:13, 8.12MB/s]\n",
      " 30%|###       | 45.1M/150M [00:05<00:11, 8.98MB/s]\n",
      " 31%|###       | 46.1M/150M [00:06<00:11, 9.26MB/s]\n",
      " 32%|###1      | 47.2M/150M [00:06<00:11, 9.10MB/s]\n",
      " 32%|###2      | 48.2M/150M [00:06<00:11, 8.62MB/s]\n",
      " 33%|###3      | 49.8M/150M [00:06<00:10, 9.28MB/s]\n",
      " 34%|###4      | 50.9M/150M [00:06<00:10, 9.30MB/s]\n",
      " 35%|###4      | 51.9M/150M [00:06<00:10, 9.49MB/s]\n",
      " 35%|###5      | 53.0M/150M [00:06<00:10, 9.53MB/s]\n",
      " 36%|###6      | 54.0M/150M [00:06<00:11, 8.21MB/s]\n",
      " 37%|###7      | 55.6M/150M [00:07<00:10, 9.10MB/s]\n",
      " 38%|###7      | 56.6M/150M [00:07<00:10, 8.80MB/s]\n",
      " 39%|###8      | 57.7M/150M [00:07<00:10, 9.14MB/s]\n",
      " 40%|###9      | 59.2M/150M [00:07<00:09, 9.20MB/s]\n",
      " 41%|####      | 60.8M/150M [00:07<00:09, 9.15MB/s]\n",
      " 42%|####1     | 62.4M/150M [00:07<00:09, 9.27MB/s]\n",
      " 43%|####2     | 64.0M/150M [00:08<00:08, 9.53MB/s]\n",
      " 43%|####3     | 65.0M/150M [00:08<00:09, 9.09MB/s]\n",
      " 44%|####4     | 66.1M/150M [00:08<00:09, 9.18MB/s]\n",
      " 45%|####4     | 67.1M/150M [00:08<00:09, 8.33MB/s]\n",
      " 46%|####5     | 68.7M/150M [00:08<00:08, 9.57MB/s]\n",
      " 47%|####6     | 69.7M/150M [00:08<00:08, 9.68MB/s]\n",
      " 47%|####7     | 70.8M/150M [00:08<00:08, 9.71MB/s]\n",
      " 48%|####8     | 71.8M/150M [00:08<00:08, 9.33MB/s]\n",
      " 49%|####8     | 72.9M/150M [00:09<00:08, 9.06MB/s]\n",
      " 49%|####9     | 73.9M/150M [00:09<00:08, 8.76MB/s]\n",
      " 50%|#####     | 75.0M/150M [00:09<00:08, 8.92MB/s]\n",
      " 51%|#####     | 76.0M/150M [00:09<00:08, 8.62MB/s]\n",
      " 52%|#####1    | 77.1M/150M [00:09<00:08, 8.89MB/s]\n",
      " 52%|#####2    | 78.1M/150M [00:09<00:07, 9.21MB/s]\n",
      " 53%|#####2    | 79.2M/150M [00:09<00:07, 8.98MB/s]\n",
      " 54%|#####3    | 80.2M/150M [00:09<00:08, 8.28MB/s]\n",
      " 54%|#####4    | 81.3M/150M [00:09<00:07, 8.66MB/s]\n",
      " 55%|#####5    | 82.8M/150M [00:10<00:06, 9.92MB/s]\n",
      " 56%|#####6    | 83.9M/150M [00:10<00:06, 9.38MB/s]\n",
      " 57%|#####6    | 84.9M/150M [00:10<00:06, 9.50MB/s]\n",
      " 57%|#####7    | 86.0M/150M [00:10<00:06, 9.76MB/s]\n",
      " 59%|#####8    | 87.6M/150M [00:10<00:05, 11.0MB/s]\n",
      " 60%|#####9    | 89.1M/150M [00:10<00:05, 11.1MB/s]\n",
      " 61%|######    | 90.7M/150M [00:10<00:05, 10.4MB/s]\n",
      " 62%|######1   | 92.3M/150M [00:10<00:05, 11.2MB/s]\n",
      " 63%|######2   | 93.8M/150M [00:11<00:05, 10.9MB/s]\n",
      " 64%|######3   | 95.4M/150M [00:11<00:05, 10.8MB/s]\n",
      " 65%|######4   | 97.0M/150M [00:11<00:04, 10.7MB/s]\n",
      " 66%|######5   | 98.6M/150M [00:11<00:04, 10.7MB/s]\n",
      " 67%|######6   | 100M/150M [00:11<00:04, 10.3MB/s] \n",
      " 68%|######8   | 102M/150M [00:11<00:04, 10.1MB/s]\n",
      " 69%|######8   | 103M/150M [00:12<00:05, 9.05MB/s]\n",
      " 69%|######9   | 104M/150M [00:12<00:05, 8.02MB/s]\n",
      " 70%|#######   | 105M/150M [00:12<00:05, 8.82MB/s]\n",
      " 72%|#######1  | 107M/150M [00:12<00:04, 9.59MB/s]\n",
      " 72%|#######2  | 108M/150M [00:12<00:05, 7.22MB/s]\n",
      " 73%|#######2  | 109M/150M [00:12<00:05, 7.65MB/s]\n",
      " 74%|#######3  | 110M/150M [00:13<00:05, 7.50MB/s]\n",
      " 74%|#######4  | 111M/150M [00:13<00:04, 7.69MB/s]\n",
      " 75%|#######5  | 113M/150M [00:13<00:04, 9.17MB/s]\n",
      " 76%|#######6  | 114M/150M [00:13<00:03, 9.34MB/s]\n",
      " 77%|#######6  | 115M/150M [00:13<00:03, 9.28MB/s]\n",
      " 77%|#######7  | 116M/150M [00:13<00:03, 8.85MB/s]\n",
      " 79%|#######8  | 117M/150M [00:13<00:03, 10.2MB/s]\n",
      " 79%|#######9  | 118M/150M [00:13<00:03, 9.93MB/s]\n",
      " 80%|########  | 120M/150M [00:14<00:02, 10.4MB/s]\n",
      " 81%|########1 | 122M/150M [00:14<00:02, 9.80MB/s]\n",
      " 82%|########2 | 123M/150M [00:14<00:02, 9.95MB/s]\n",
      " 83%|########3 | 125M/150M [00:14<00:02, 10.4MB/s]\n",
      " 84%|########4 | 126M/150M [00:14<00:02, 10.5MB/s]\n",
      " 86%|########5 | 128M/150M [00:14<00:02, 9.64MB/s]\n",
      " 87%|########6 | 129M/150M [00:14<00:01, 10.5MB/s]\n",
      " 88%|########7 | 131M/150M [00:15<00:01, 10.3MB/s]\n",
      " 89%|########8 | 133M/150M [00:15<00:01, 9.91MB/s]\n",
      " 90%|########9 | 134M/150M [00:15<00:01, 10.7MB/s]\n",
      " 91%|######### | 136M/150M [00:15<00:01, 10.8MB/s]\n",
      " 92%|#########1| 137M/150M [00:15<00:01, 10.9MB/s]\n",
      " 93%|#########2| 139M/150M [00:15<00:00, 10.8MB/s]\n",
      " 94%|#########3| 141M/150M [00:15<00:00, 10.5MB/s]\n",
      " 95%|#########4| 142M/150M [00:16<00:00, 9.11MB/s]\n",
      " 96%|#########6| 144M/150M [00:16<00:00, 10.4MB/s]\n",
      " 97%|#########7| 145M/150M [00:16<00:00, 9.97MB/s]\n",
      " 98%|#########8| 147M/150M [00:16<00:00, 9.71MB/s]\n",
      " 99%|#########8| 148M/150M [00:16<00:00, 9.71MB/s]\n",
      "100%|#########9| 149M/150M [00:16<00:00, 9.84MB/s]\n",
      "100%|##########| 150M/150M [00:16<00:00, 8.84MB/s]\n",
      "C:\\Users\\devas\\AppData\\Local\\pypoetry\\Cache\\virtualenvs\\tensorflow-1-public-cSeBuBzT-py3.7\\lib\\site-packages\\gdown\\cli.py:131: FutureWarning: Option `--id` was deprecated in version 4.3.1 and will be removed in 5.0. You don't need to pass it anymore to use a file ID.\n",
      "  category=FutureWarning,\n",
      "Downloading...\n",
      "From: https://drive.google.com/uc?id=1LYeusSEIiZQpwN-mthh5nKdA75VsKG1U\n",
      "To: D:\\Source\\Sandoxes\\tensorflow-1-public\\C2\\W2\\ungraded_labs\\validation-horse-or-human.zip\n",
      "\n",
      "  0%|          | 0.00/11.5M [00:00<?, ?B/s]\n",
      "  5%|4         | 524k/11.5M [00:00<00:02, 3.68MB/s]\n",
      "  9%|9         | 1.05M/11.5M [00:00<00:02, 3.67MB/s]\n",
      " 18%|#8        | 2.10M/11.5M [00:00<00:01, 5.27MB/s]\n",
      " 27%|##7       | 3.15M/11.5M [00:00<00:01, 6.48MB/s]\n",
      " 37%|###6      | 4.19M/11.5M [00:00<00:00, 7.65MB/s]\n",
      " 46%|####5     | 5.24M/11.5M [00:00<00:00, 7.77MB/s]\n",
      " 59%|#####9    | 6.82M/11.5M [00:00<00:00, 9.34MB/s]\n",
      " 69%|######8   | 7.86M/11.5M [00:01<00:00, 9.37MB/s]\n",
      " 82%|########2 | 9.44M/11.5M [00:01<00:00, 10.1MB/s]\n",
      " 91%|#########1| 10.5M/11.5M [00:01<00:00, 9.37MB/s]\n",
      "100%|##########| 11.5M/11.5M [00:01<00:00, 8.40MB/s]\n"
     ]
    }
   ],
   "source": [
    "# Download the dataset\n",
    "\n",
    "# horses-or-humans dataset\n",
    "!gdown --id 1onaG42NZft3wCE1WH0GDEbUhu75fedP5\n",
    "\n",
    "# horses-or-humans validation dataset\n",
    "!gdown --id 1LYeusSEIiZQpwN-mthh5nKdA75VsKG1U"
   ]
  },
  {
   "cell_type": "code",
   "execution_count": 2,
   "metadata": {
    "id": "RXZT2UsyIVe_"
   },
   "outputs": [],
   "source": [
    "import os\n",
    "import zipfile\n",
    "\n",
    "# Extract the archive\n",
    "zip_ref = zipfile.ZipFile('./horse-or-human.zip', 'r')\n",
    "zip_ref.extractall('tmp/horse-or-human')\n",
    "\n",
    "zip_ref = zipfile.ZipFile('./validation-horse-or-human.zip', 'r')\n",
    "zip_ref.extractall('tmp/validation-horse-or-human')\n",
    "\n",
    "zip_ref.close()\n",
    "\n",
    "# Directory with training horse pictures\n",
    "train_horse_dir = os.path.join('tmp/horse-or-human/horses')\n",
    "\n",
    "# Directory with training human pictures\n",
    "train_human_dir = os.path.join('tmp/horse-or-human/humans')\n",
    "\n",
    "# Directory with training horse pictures\n",
    "validation_horse_dir = os.path.join('tmp/validation-horse-or-human/horses')\n",
    "\n",
    "# Directory with training human pictures\n",
    "validation_human_dir = os.path.join('tmp/validation-horse-or-human/humans')"
   ]
  },
  {
   "cell_type": "code",
   "execution_count": 8,
   "metadata": {
    "id": "PixZ2s5QbYQ3"
   },
   "outputs": [],
   "source": [
    "import tensorflow as tf\n",
    "\n",
    "# Build the model\n",
    "model = tf.keras.models.Sequential([\n",
    "    # Note the input shape is the desired size of the image 300x300 with 3 bytes color\n",
    "    # This is the first convolution\n",
    "    tf.keras.layers.Conv2D(16, (3,3), activation='relu', input_shape=(300, 300, 3)),\n",
    "    tf.keras.layers.MaxPooling2D(2, 2),\n",
    "    tf.keras.layers.Dropout(0.2),\n",
    "    # The second convolution\n",
    "    tf.keras.layers.Conv2D(32, (3,3), activation='relu'),\n",
    "    tf.keras.layers.MaxPooling2D(2,2),\n",
    "    tf.keras.layers.Dropout(0.2),\n",
    "    # The third convolution\n",
    "    tf.keras.layers.Conv2D(64, (3,3), activation='relu'),\n",
    "    tf.keras.layers.MaxPooling2D(2,2),\n",
    "    tf.keras.layers.Dropout(0.2),\n",
    "    # The fourth convolution\n",
    "    tf.keras.layers.Conv2D(64, (3,3), activation='relu'),\n",
    "    tf.keras.layers.MaxPooling2D(2,2),\n",
    "    tf.keras.layers.Dropout(0.2),\n",
    "    # The fifth convolution\n",
    "    tf.keras.layers.Conv2D(64, (3,3), activation='relu'),\n",
    "    tf.keras.layers.MaxPooling2D(2,2),\n",
    "    # Flatten the results to feed into a DNN\n",
    "    tf.keras.layers.Flatten(),\n",
    "    # 512 neuron hidden layer\n",
    "    tf.keras.layers.Dense(512, activation='relu'),\n",
    "    # Only 1 output neuron. It will contain a value from 0-1 where 0 for 1 class ('horses') and 1 for the other ('humans')\n",
    "    tf.keras.layers.Dense(1, activation='sigmoid')\n",
    "])"
   ]
  },
  {
   "cell_type": "code",
   "execution_count": 9,
   "metadata": {
    "id": "8DHWhFP_uhq3"
   },
   "outputs": [],
   "source": [
    "from tensorflow.keras.optimizers import RMSprop\n",
    "\n",
    "# Set training parameters\n",
    "model.compile(loss='binary_crossentropy',\n",
    "              optimizer=RMSprop(learning_rate=1e-4),\n",
    "              metrics=['accuracy'])"
   ]
  },
  {
   "cell_type": "code",
   "execution_count": 10,
   "metadata": {
    "id": "ClebU9NJg99G"
   },
   "outputs": [
    {
     "name": "stdout",
     "output_type": "stream",
     "text": [
      "Found 1027 images belonging to 2 classes.\n",
      "Found 256 images belonging to 2 classes.\n"
     ]
    }
   ],
   "source": [
    "from tensorflow.keras.preprocessing.image import ImageDataGenerator\n",
    "\n",
    "# Apply data augmentation\n",
    "train_datagen = ImageDataGenerator(\n",
    "      rescale=1./255,\n",
    "      rotation_range=40,\n",
    "      width_shift_range=0.2,\n",
    "      height_shift_range=0.2,\n",
    "      shear_range=0.2,\n",
    "      zoom_range=0.2,\n",
    "      horizontal_flip=True,\n",
    "      fill_mode='nearest')\n",
    "\n",
    "validation_datagen = ImageDataGenerator(rescale=1/255)\n",
    "\n",
    "# Flow training images in batches of 128 using train_datagen generator\n",
    "train_generator = train_datagen.flow_from_directory(\n",
    "        'tmp/horse-or-human/',  # This is the source directory for training images\n",
    "        target_size=(300, 300),  # All images will be resized to 150x150\n",
    "        batch_size=128,\n",
    "        # Since we use binary_crossentropy loss, we need binary labels\n",
    "        class_mode='binary')\n",
    "\n",
    "# Flow training images in batches of 128 using train_datagen generator\n",
    "validation_generator = validation_datagen.flow_from_directory(\n",
    "        'tmp/validation-horse-or-human/',  # This is the source directory for training images\n",
    "        target_size=(300, 300),  # All images will be resized to 150x150\n",
    "        batch_size=32,\n",
    "        # Since we use binary_crossentropy loss, we need binary labels\n",
    "        class_mode='binary')"
   ]
  },
  {
   "cell_type": "code",
   "execution_count": 11,
   "metadata": {
    "id": "Fb1_lgobv81m"
   },
   "outputs": [
    {
     "name": "stdout",
     "output_type": "stream",
     "text": [
      "Epoch 1/20\n",
      "8/8 [==============================] - 23s 3s/step - loss: 0.7541 - accuracy: 0.5050 - val_loss: 0.6922 - val_accuracy: 0.5312\n",
      "Epoch 2/20\n",
      "8/8 [==============================] - 19s 2s/step - loss: 0.7021 - accuracy: 0.5506 - val_loss: 0.6920 - val_accuracy: 0.5000\n",
      "Epoch 3/20\n",
      "8/8 [==============================] - 19s 3s/step - loss: 0.6848 - accuracy: 0.5517 - val_loss: 0.6911 - val_accuracy: 0.5000\n",
      "Epoch 4/20\n",
      "8/8 [==============================] - 19s 2s/step - loss: 0.7193 - accuracy: 0.5506 - val_loss: 0.6893 - val_accuracy: 0.5547\n",
      "Epoch 5/20\n",
      "8/8 [==============================] - 19s 3s/step - loss: 0.6761 - accuracy: 0.5706 - val_loss: 0.6890 - val_accuracy: 0.5234\n",
      "Epoch 6/20\n",
      "8/8 [==============================] - 19s 2s/step - loss: 0.7144 - accuracy: 0.5551 - val_loss: 0.6895 - val_accuracy: 0.5000\n",
      "Epoch 7/20\n",
      "8/8 [==============================] - 19s 2s/step - loss: 0.6789 - accuracy: 0.5695 - val_loss: 0.6886 - val_accuracy: 0.5586\n",
      "Epoch 8/20\n",
      "8/8 [==============================] - 19s 2s/step - loss: 0.6745 - accuracy: 0.5729 - val_loss: 0.6891 - val_accuracy: 0.5000\n",
      "Epoch 9/20\n",
      "8/8 [==============================] - 22s 3s/step - loss: 0.6678 - accuracy: 0.5957 - val_loss: 0.6869 - val_accuracy: 0.5703\n",
      "Epoch 10/20\n",
      "8/8 [==============================] - 21s 3s/step - loss: 0.6727 - accuracy: 0.5795 - val_loss: 0.6896 - val_accuracy: 0.5000\n",
      "Epoch 11/20\n",
      "8/8 [==============================] - 19s 2s/step - loss: 0.6739 - accuracy: 0.5784 - val_loss: 0.6861 - val_accuracy: 0.6836\n",
      "Epoch 12/20\n",
      "8/8 [==============================] - 19s 2s/step - loss: 0.6551 - accuracy: 0.6263 - val_loss: 0.6863 - val_accuracy: 0.4883\n",
      "Epoch 13/20\n",
      "8/8 [==============================] - 18s 2s/step - loss: 0.6623 - accuracy: 0.5984 - val_loss: 0.6920 - val_accuracy: 0.5000\n",
      "Epoch 14/20\n",
      "8/8 [==============================] - 18s 2s/step - loss: 0.6638 - accuracy: 0.5862 - val_loss: 0.6842 - val_accuracy: 0.6211\n",
      "Epoch 15/20\n",
      "8/8 [==============================] - 18s 2s/step - loss: 0.6525 - accuracy: 0.6129 - val_loss: 0.6854 - val_accuracy: 0.6406\n",
      "Epoch 16/20\n",
      "8/8 [==============================] - 18s 3s/step - loss: 0.6297 - accuracy: 0.6574 - val_loss: 0.6842 - val_accuracy: 0.5312\n",
      "Epoch 17/20\n",
      "8/8 [==============================] - 19s 2s/step - loss: 0.6527 - accuracy: 0.6196 - val_loss: 0.6820 - val_accuracy: 0.5625\n",
      "Epoch 18/20\n",
      "8/8 [==============================] - 18s 2s/step - loss: 0.6186 - accuracy: 0.6819 - val_loss: 0.6874 - val_accuracy: 0.5000\n",
      "Epoch 19/20\n",
      "8/8 [==============================] - 19s 2s/step - loss: 0.6730 - accuracy: 0.6618 - val_loss: 0.6801 - val_accuracy: 0.5664\n",
      "Epoch 20/20\n",
      "8/8 [==============================] - 21s 3s/step - loss: 0.6228 - accuracy: 0.6563 - val_loss: 0.6824 - val_accuracy: 0.5078\n"
     ]
    }
   ],
   "source": [
    "# Constant for epochs\n",
    "EPOCHS = 20\n",
    "\n",
    "# Train the model\n",
    "history = model.fit(\n",
    "      train_generator,\n",
    "      steps_per_epoch=8,  \n",
    "      epochs=EPOCHS,\n",
    "      verbose=1,\n",
    "      validation_data = validation_generator,\n",
    "      validation_steps=8)"
   ]
  },
  {
   "cell_type": "code",
   "execution_count": 12,
   "metadata": {
    "id": "7zNPRWOVJdOH"
   },
   "outputs": [
    {
     "data": {
      "text/plain": "<Figure size 432x288 with 1 Axes>",
      "image/png": "[encoded data removed]"
     },
     "metadata": {
      "needs_background": "light"
     },
     "output_type": "display_data"
    },
    {
     "data": {
      "text/plain": "<Figure size 432x288 with 1 Axes>",
      "image/png": "[encoded data removed]"
     },
     "metadata": {
      "needs_background": "light"
     },
     "output_type": "display_data"
    }
   ],
   "source": [
    "import matplotlib.pyplot as plt\n",
    "\n",
    "# Plot the model results\n",
    "acc = history.history['accuracy']\n",
    "val_acc = history.history['val_accuracy']\n",
    "loss = history.history['loss']\n",
    "val_loss = history.history['val_loss']\n",
    "\n",
    "epochs = range(len(acc))\n",
    "\n",
    "plt.plot(epochs, acc, 'r', label='Training accuracy')\n",
    "plt.plot(epochs, val_acc, 'b', label='Validation accuracy')\n",
    "plt.title('Training and validation accuracy')\n",
    "\n",
    "plt.figure()\n",
    "\n",
    "plt.plot(epochs, loss, 'r', label='Training Loss')\n",
    "plt.plot(epochs, val_loss, 'b', label='Validation Loss')\n",
    "plt.title('Training and validation loss')\n",
    "plt.legend()\n",
    "\n",
    "plt.show()"
   ]
  },
  {
   "cell_type": "markdown",
   "metadata": {
    "id": "hwyabYvCsvtn"
   },
   "source": [
    "As you can see in the results, the preprocessing techniques used in augmenting the data did not help much in the results. The validation accuracy is fluctuating and not trending up like the training accuracy. This might be because the additional training data generated still do not represent the features in the validation data. For example, some human or horse poses in the validation set cannot be mimicked by the image processing techniques that `ImageDataGenerator` provides. It might also be that the background of the training images are also learned so the white background of the validation set is throwing the model off even with cropping. Try looking at the validation images in the `tmp/validation-horse-or-human` directory (note: if you are using Colab, you can use the file explorer on the left to explore the images) and see if you can augment the training images to match its characteristics. If this is not possible, then at this point you can consider other techniques and you will see that in next week's lessons."
   ]
  }
 ],
 "metadata": {
  "accelerator": "GPU",
  "colab": {
   "collapsed_sections": [],
   "name": "C2_W2_Lab_2_horses_v_humans_augmentation.ipynb",
   "private_outputs": true,
   "provenance": [
    {
     "file_id": "https://github.com/https-deeplearning-ai/tensorflow-1-public/blob/adding_C2/C2/W2/ungraded_labs/C2_W2_Lab_2_horses_v_humans_augmentation.ipynb",
     "timestamp": 1639648217641
    }
   ]
  },
  "kernelspec": {
   "display_name": "Python 3",
   "language": "python",
   "name": "python3"
  },
  "language_info": {
   "codemirror_mode": {
    "name": "ipython",
    "version": 3
   },
   "file_extension": ".py",
   "mimetype": "text/x-python",
   "name": "python",
   "nbconvert_exporter": "python",
   "pygments_lexer": "ipython3",
   "version": "3.7.4"
  }
 },
 "nbformat": 4,
 "nbformat_minor": 1
}