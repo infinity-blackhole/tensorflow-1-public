{
 "cells": [
  {
   "cell_type": "markdown",
   "metadata": {},
   "source": [
    "<a href=\"https://colab.research.google.com/github/https-deeplearning-ai/tensorflow-1-public/blob/master/C3/W2/ungraded_labs/C3_W2_Lab_2_sarcasm_classifier.ipynb\" target=\"_parent\"><img src=\"https://colab.research.google.com/assets/colab-badge.svg\" alt=\"Open In Colab\"/></a>"
   ]
  },
  {
   "cell_type": "markdown",
   "metadata": {
    "id": "ZfVtdwryvvP6"
   },
   "source": [
    "# Ungraded Lab: Training a binary classifier with the Sarcasm Dataset\n",
    "\n",
    "In this lab, you will revisit the [News Headlines Dataset for Sarcasm Detection](https://www.kaggle.com/rmisra/news-headlines-dataset-for-sarcasm-detection/home) from last week and proceed to build a train a model on it. The steps will be very similar to the previous lab with IMDB Reviews with just some minor modifications. You can tweak the hyperparameters and see how it affects the results. Let's begin!"
   ]
  },
  {
   "cell_type": "markdown",
   "metadata": {
    "id": "aWIM6gplHqfx"
   },
   "source": [
    "## Download the dataset\n",
    "\n",
    "You will first download the JSON file, load it into your workspace and put the sentences and labels into lists. "
   ]
  },
  {
   "cell_type": "code",
   "execution_count": 1,
   "metadata": {
    "id": "BQVuQrZNkPn9"
   },
   "outputs": [
    {
     "name": "stderr",
     "output_type": "stream",
     "text": [
      "--2022-03-27 19:39:19--  https://storage.googleapis.com/tensorflow-1-public/course3/sarcasm.json\n",
      "Resolving storage.googleapis.com (storage.googleapis.com)... 216.58.206.240, 172.217.18.208, 216.58.214.80, ...\n",
      "Connecting to storage.googleapis.com (storage.googleapis.com)|216.58.206.240|:443... connected.\n",
      "HTTP request sent, awaiting response... 200 OK\n",
      "Length: 5643545 (5.4M) [application/json]\n",
      "Saving to: 'sarcasm.json'\n",
      "\n",
      "     0K .......... .......... .......... .......... ..........  0% 1.34M 4s\n",
      "    50K .......... .......... .......... .......... ..........  1% 3.14M 3s\n",
      "   100K .......... .......... .......... .......... ..........  2% 2.96M 2s\n",
      "   150K .......... .......... .......... .......... ..........  3% 4.85M 2s\n",
      "   200K .......... .......... .......... .......... ..........  4% 1.68M 2s\n",
      "   250K .......... .......... .......... .......... ..........  5% 3.70M 2s\n",
      "   300K .......... .......... .......... .......... ..........  6% 6.08M 2s\n",
      "   350K .......... .......... .......... .......... ..........  7% 1.48M 2s\n",
      "   400K .......... .......... .......... .......... ..........  8% 7.86M 2s\n",
      "   450K .......... .......... .......... .......... ..........  9% 3.25M 2s\n",
      "   500K .......... .......... .......... .......... ..........  9% 8.03M 2s\n",
      "   550K .......... .......... .......... .......... .......... 10% 6.91M 2s\n",
      "   600K .......... .......... .......... .......... .......... 11% 8.21M 2s\n",
      "   650K .......... .......... .......... .......... .......... 12% 1.37M 2s\n",
      "   700K .......... .......... .......... .......... .......... 13% 7.59M 2s\n",
      "   750K .......... .......... .......... .......... .......... 14% 5.21M 1s\n",
      "   800K .......... .......... .......... .......... .......... 15% 6.99M 1s\n",
      "   850K .......... .......... .......... .......... .......... 16% 6.72M 1s\n",
      "   900K .......... .......... .......... .......... .......... 17% 1.65M 1s\n",
      "   950K .......... .......... .......... .......... .......... 18% 52.2M 1s\n",
      "  1000K .......... .......... .......... .......... .......... 19% 60.5M 1s\n",
      "  1050K .......... .......... .......... .......... .......... 19%  188M 1s\n",
      "  1100K .......... .......... .......... .......... .......... 20% 10.4M 1s\n",
      "  1150K .......... .......... .......... .......... .......... 21% 6.50M 1s\n",
      "  1200K .......... .......... .......... .......... .......... 22% 3.22M 1s\n",
      "  1250K .......... .......... .......... .......... .......... 23% 1.53M 1s\n",
      "  1300K .......... .......... .......... .......... .......... 24% 19.8M 1s\n",
      "  1350K .......... .......... .......... .......... .......... 25% 24.6M 1s\n",
      "  1400K .......... .......... .......... .......... .......... 26% 2.32M 1s\n",
      "  1450K .......... .......... .......... .......... .......... 27%  257M 1s\n",
      "  1500K .......... .......... .......... .......... .......... 28% 20.2M 1s\n",
      "  1550K .......... .......... .......... .......... .......... 29% 7.65M 1s\n",
      "  1600K .......... .......... .......... .......... .......... 29% 3.96M 1s\n",
      "  1650K .......... .......... .......... .......... .......... 30% 3.02M 1s\n",
      "  1700K .......... .......... .......... .......... .......... 31% 5.55M 1s\n",
      "  1750K .......... .......... .......... .......... .......... 32% 9.42M 1s\n",
      "  1800K .......... .......... .......... .......... .......... 33% 6.62M 1s\n",
      "  1850K .......... .......... .......... .......... .......... 34% 8.08M 1s\n",
      "  1900K .......... .......... .......... .......... .......... 35% 6.77M 1s\n",
      "  1950K .......... .......... .......... .......... .......... 36% 5.96M 1s\n",
      "  2000K .......... .......... .......... .......... .......... 37% 6.01M 1s\n",
      "  2050K .......... .......... .......... .......... .......... 38% 10.4M 1s\n",
      "  2100K .......... .......... .......... .......... .......... 39% 13.3M 1s\n",
      "  2150K .......... .......... .......... .......... .......... 39% 9.57M 1s\n",
      "  2200K .......... .......... .......... .......... .......... 40% 4.47M 1s\n",
      "  2250K .......... .......... .......... .......... .......... 41% 1.79M 1s\n",
      "  2300K .......... .......... .......... .......... .......... 42% 10.1M 1s\n",
      "  2350K .......... .......... .......... .......... .......... 43% 9.88M 1s\n",
      "  2400K .......... .......... .......... .......... .......... 44% 6.83M 1s\n",
      "  2450K .......... .......... .......... .......... .......... 45% 12.2M 1s\n",
      "  2500K .......... .......... .......... .......... .......... 46% 2.69M 1s\n",
      "  2550K .......... .......... .......... .......... .......... 47% 6.27M 1s\n",
      "  2600K .......... .......... .......... .......... .......... 48% 13.5M 1s\n",
      "  2650K .......... .......... .......... .......... .......... 48% 9.54M 1s\n",
      "  2700K .......... .......... .......... .......... .......... 49%  963K 1s\n",
      "  2750K .......... .......... .......... .......... .......... 50%  214K 1s\n",
      "  2800K .......... .......... .......... .......... .......... 51% 4.61M 1s\n",
      "  2850K .......... .......... .......... .......... .......... 52% 6.30M 1s\n",
      "  2900K .......... .......... .......... .......... .......... 53% 6.39M 1s\n",
      "  2950K .......... .......... .......... .......... .......... 54% 6.70M 1s\n",
      "  3000K .......... .......... .......... .......... .......... 55% 28.2M 1s\n",
      "  3050K .......... .......... .......... .......... .......... 56% 91.6M 1s\n",
      "  3100K .......... .......... .......... .......... .......... 57%  259M 1s\n",
      "  3150K .......... .......... .......... .......... .......... 58% 1.99M 1s\n",
      "  3200K .......... .......... .......... .......... .......... 58% 3.85M 1s\n",
      "  3250K .......... .......... .......... .......... .......... 59% 13.1M 1s\n",
      "  3300K .......... .......... .......... .......... .......... 60% 9.24M 1s\n",
      "  3350K .......... .......... .......... .......... .......... 61% 10.2M 1s\n",
      "  3400K .......... .......... .......... .......... .......... 62% 7.71M 1s\n",
      "  3450K .......... .......... .......... .......... .......... 63% 6.00M 1s\n",
      "  3500K .......... .......... .......... .......... .......... 64% 10.5M 1s\n",
      "  3550K .......... .......... .......... .......... .......... 65% 9.81M 1s\n",
      "  3600K .......... .......... .......... .......... .......... 66% 4.41M 1s\n",
      "  3650K .......... .......... .......... .......... .......... 67% 5.06M 0s\n",
      "  3700K .......... .......... .......... .......... .......... 68% 8.77M 0s\n",
      "  3750K .......... .......... .......... .......... .......... 68% 3.28M 0s\n",
      "  3800K .......... .......... .......... .......... .......... 69% 31.0M 0s\n",
      "  3850K .......... .......... .......... .......... .......... 70% 9.65M 0s\n",
      "  3900K .......... .......... .......... .......... .......... 71% 4.72M 0s\n",
      "  3950K .......... .......... .......... .......... .......... 72% 5.39M 0s\n",
      "  4000K .......... .......... .......... .......... .......... 73% 8.49M 0s\n",
      "  4050K .......... .......... .......... .......... .......... 74% 20.3M 0s\n",
      "  4100K .......... .......... .......... .......... .......... 75% 14.1M 0s\n",
      "  4150K .......... .......... .......... .......... .......... 76% 12.3M 0s\n",
      "  4200K .......... .......... .......... .......... .......... 77% 9.62M 0s\n",
      "  4250K .......... .......... .......... .......... .......... 78% 2.52M 0s\n",
      "  4300K .......... .......... .......... .......... .......... 78% 12.9M 0s\n",
      "  4350K .......... .......... .......... .......... .......... 79% 4.58M 0s\n",
      "  4400K .......... .......... .......... .......... .......... 80% 4.66M 0s\n",
      "  4450K .......... .......... .......... .......... .......... 81% 30.7M 0s\n",
      "  4500K .......... .......... .......... .......... .......... 82% 8.11M 0s\n",
      "  4550K .......... .......... .......... .......... .......... 83% 8.67M 0s\n",
      "  4600K .......... .......... .......... .......... .......... 84% 5.57M 0s\n",
      "  4650K .......... .......... .......... .......... .......... 85% 4.20M 0s\n",
      "  4700K .......... .......... .......... .......... .......... 86% 9.87M 0s\n",
      "  4750K .......... .......... .......... .......... .......... 87% 11.7M 0s\n",
      "  4800K .......... .......... .......... .......... .......... 88% 9.44M 0s\n",
      "  4850K .......... .......... .......... .......... .......... 88% 7.81M 0s\n",
      "  4900K .......... .......... .......... .......... .......... 89% 9.78M 0s\n",
      "  4950K .......... .......... .......... .......... .......... 90% 8.02M 0s\n",
      "  5000K .......... .......... .......... .......... .......... 91% 4.96M 0s\n",
      "  5050K .......... .......... .......... .......... .......... 92% 10.0M 0s\n",
      "  5100K .......... .......... .......... .......... .......... 93% 9.77M 0s\n",
      "  5150K .......... .......... .......... .......... .......... 94% 7.90M 0s\n",
      "  5200K .......... .......... .......... .......... .......... 95% 6.93M 0s\n",
      "  5250K .......... .......... .......... .......... .......... 96% 10.7M 0s\n",
      "  5300K .......... .......... .......... .......... .......... 97% 9.71M 0s\n",
      "  5350K .......... .......... .......... .......... .......... 97% 8.79M 0s\n",
      "  5400K .......... .......... .......... .......... .......... 98% 10.4M 0s\n",
      "  5450K .......... .......... .......... .......... .......... 99% 15.7M 0s\n",
      "  5500K .......... .                                          100% 3.06M=1.2s\n",
      "\n",
      "2022-03-27 19:39:21 (4.37 MB/s) - 'sarcasm.json' saved [5643545/5643545]\n",
      "\n"
     ]
    }
   ],
   "source": [
    "# Download the dataset\n",
    "!wget https://storage.googleapis.com/tensorflow-1-public/course3/sarcasm.json"
   ]
  },
  {
   "cell_type": "code",
   "execution_count": 2,
   "metadata": {
    "id": "oaLaaqhNkUPd"
   },
   "outputs": [],
   "source": [
    "import json\n",
    "\n",
    "# Load the JSON file\n",
    "with open(\"./sarcasm.json\", 'r') as f:\n",
    "    datastore = json.load(f)\n",
    "\n",
    "# Initialize the lists\n",
    "sentences = []\n",
    "labels = []\n",
    "\n",
    "# Collect sentences and labels into the lists\n",
    "for item in datastore:\n",
    "    sentences.append(item['headline'])\n",
    "    labels.append(item['is_sarcastic'])"
   ]
  },
  {
   "cell_type": "markdown",
   "metadata": {
    "id": "kw1I6oNSfCxa"
   },
   "source": [
    "## Hyperparameters\n",
    "\n",
    "We placed the hyperparameters in the cell below so you can easily tweak it later:"
   ]
  },
  {
   "cell_type": "code",
   "execution_count": 41,
   "metadata": {
    "id": "wpF4x5olfHX-"
   },
   "outputs": [],
   "source": [
    "# Number of examples to use for training\n",
    "training_size = 20000\n",
    "\n",
    "# Vocabulary size of the tokenizer\n",
    "vocab_size = 1000\n",
    "\n",
    "# Maximum length of the padded sequences\n",
    "max_length = 32\n",
    "\n",
    "# Output dimensions of the Embedding layer\n",
    "embedding_dim = 16"
   ]
  },
  {
   "cell_type": "markdown",
   "metadata": {
    "id": "dHibcDI0H5Zj"
   },
   "source": [
    "## Split the dataset\n",
    "\n",
    "Next, you will generate your train and test datasets. You will use the `training_size` value you set above to slice the `sentences` and `labels` lists into two sublists: one fore training and another for testing."
   ]
  },
  {
   "cell_type": "code",
   "execution_count": 42,
   "metadata": {
    "id": "S1sD-7v0kYWk"
   },
   "outputs": [],
   "source": [
    "# Split the sentences\n",
    "training_sentences = sentences[0:training_size]\n",
    "testing_sentences = sentences[training_size:]\n",
    "\n",
    "# Split the labels\n",
    "training_labels = labels[0:training_size]\n",
    "testing_labels = labels[training_size:]"
   ]
  },
  {
   "cell_type": "markdown",
   "metadata": {
    "id": "qciTzNR7IHzJ"
   },
   "source": [
    "## Preprocessing the train and test sets\n",
    "\n",
    "Now you can preprocess the text and labels so it can be consumed by the model. You use the `Tokenizer` class to create the vocabulary and the `pad_sequences` method to generate padded token sequences. You will also need to set the labels to a numpy array so it can be a valid data type for `model.fit()`."
   ]
  },
  {
   "cell_type": "code",
   "execution_count": 43,
   "metadata": {
    "id": "3u8UB0MCkZ5N"
   },
   "outputs": [],
   "source": [
    "import numpy as np\n",
    "from tensorflow.keras.preprocessing.text import Tokenizer\n",
    "from tensorflow.keras.preprocessing.sequence import pad_sequences\n",
    "\n",
    "# Parameters for padding and OOV tokens\n",
    "trunc_type='post'\n",
    "padding_type='post'\n",
    "oov_tok = \"<OOV>\"\n",
    "\n",
    "# Initialize the Tokenizer class\n",
    "tokenizer = Tokenizer(num_words=vocab_size, oov_token=oov_tok)\n",
    "\n",
    "# Generate the word index dictionary\n",
    "tokenizer.fit_on_texts(training_sentences)\n",
    "word_index = tokenizer.word_index\n",
    "\n",
    "# Generate and pad the training sequences\n",
    "training_sequences = tokenizer.texts_to_sequences(training_sentences)\n",
    "training_padded = pad_sequences(training_sequences, maxlen=max_length, padding=padding_type, truncating=trunc_type)\n",
    "\n",
    "# Generate and pad the testing sequences\n",
    "testing_sequences = tokenizer.texts_to_sequences(testing_sentences)\n",
    "testing_padded = pad_sequences(testing_sequences, maxlen=max_length, padding=padding_type, truncating=trunc_type)\n",
    "\n",
    "# Convert the labels lists into numpy arrays\n",
    "training_labels = np.array(training_labels)\n",
    "testing_labels = np.array(testing_labels)"
   ]
  },
  {
   "cell_type": "code",
   "execution_count": 44,
   "outputs": [],
   "source": [
    "import tensorflow as tf\n",
    "\n",
    "tokenizer = tf.keras.layers.TextVectorization(max_tokens=vocab_size)\n",
    "tokenizer.adapt(training_sentences)\n",
    "\n",
    "training_sentences = tokenizer(training_sentences)\n",
    "testing_sentences = tokenizer(testing_sentences)"
   ],
   "metadata": {
    "collapsed": false,
    "pycharm": {
     "name": "#%%\n"
    }
   }
  },
  {
   "cell_type": "markdown",
   "metadata": {
    "id": "AMF4afx2IdHo"
   },
   "source": [
    "## Build and Compile the Model\n",
    "\n",
    "Next, you will build the model. The architecture is similar to the previous lab but you will use a [GlobalAveragePooling1D](https://www.tensorflow.org/api_docs/python/tf/keras/layers/GlobalAveragePooling1D) layer instead of `Flatten` after the Embedding. This adds the task of averaging over the sequence dimension before connecting to the dense layers. See a short demo of how this works using the snippet below. Notice that it gets the average over 3 arrays (i.e. `(10 + 1 + 1) / 3` and `(2 + 3 + 1) / 3` to arrive at the final output."
   ]
  },
  {
   "cell_type": "code",
   "execution_count": 45,
   "metadata": {
    "id": "7KDCvSc0kFOz"
   },
   "outputs": [
    {
     "name": "stdout",
     "output_type": "stream",
     "text": [
      "shape of sample_array = (1, 3, 2)\n",
      "sample array: [[[10  2]\n",
      "  [ 1  3]\n",
      "  [ 1  1]]]\n",
      "output shape of gap1d_layer: (1, 2)\n",
      "output array of gap1d_layer: [[4 2]]\n"
     ]
    }
   ],
   "source": [
    "import tensorflow as tf\n",
    "\n",
    "# Initialize a GlobalAveragePooling1D (GAP1D) layer\n",
    "gap1d_layer = tf.keras.layers.GlobalAveragePooling1D()\n",
    "\n",
    "# Define sample array\n",
    "sample_array = np.array([[[10,2],[1,3],[1,1]]])\n",
    "\n",
    "# Print shape and contents of sample array\n",
    "print(f'shape of sample_array = {sample_array.shape}')\n",
    "print(f'sample array: {sample_array}')\n",
    "\n",
    "# Pass the sample array to the GAP1D layer\n",
    "output = gap1d_layer(sample_array)\n",
    "\n",
    "# Print shape and contents of the GAP1D output array\n",
    "print(f'output shape of gap1d_layer: {output.shape}')\n",
    "print(f'output array of gap1d_layer: {output.numpy()}')"
   ]
  },
  {
   "cell_type": "markdown",
   "metadata": {
    "id": "evlU_kqOshc4"
   },
   "source": [
    "This added computation reduces the dimensionality of the model as compared to using `Flatten()` and thus, the number of training parameters will also decrease. See the output of `model.summary()` below and see how it compares if you swap out the pooling layer with a simple `Flatten()`."
   ]
  },
  {
   "cell_type": "code",
   "execution_count": 46,
   "metadata": {
    "id": "FufaT4vlkiDE"
   },
   "outputs": [
    {
     "name": "stdout",
     "output_type": "stream",
     "text": [
      "Model: \"sequential_4\"\n",
      "_________________________________________________________________\n",
      " Layer (type)                Output Shape              Param #   \n",
      "=================================================================\n",
      " embedding_4 (Embedding)     (None, 32, 16)            16000     \n",
      "                                                                 \n",
      " global_average_pooling1d_9   (None, 16)               0         \n",
      " (GlobalAveragePooling1D)                                        \n",
      "                                                                 \n",
      " dense_8 (Dense)             (None, 24)                408       \n",
      "                                                                 \n",
      " dense_9 (Dense)             (None, 1)                 25        \n",
      "                                                                 \n",
      "=================================================================\n",
      "Total params: 16,433\n",
      "Trainable params: 16,433\n",
      "Non-trainable params: 0\n",
      "_________________________________________________________________\n"
     ]
    }
   ],
   "source": [
    "# Build the model\n",
    "model = tf.keras.Sequential([\n",
    "    tf.keras.layers.Embedding(vocab_size, embedding_dim, input_length=max_length),\n",
    "    tf.keras.layers.GlobalAveragePooling1D(),\n",
    "    tf.keras.layers.Dense(24, activation='relu'),\n",
    "    tf.keras.layers.Dense(1, activation='sigmoid')\n",
    "])\n",
    "\n",
    "# Print the model summary\n",
    "model.summary()"
   ]
  },
  {
   "cell_type": "markdown",
   "metadata": {
    "id": "GMxT5NzKtRgr"
   },
   "source": [
    "You will use the same loss, optimizer, and metrics from the previous lab."
   ]
  },
  {
   "cell_type": "code",
   "execution_count": 47,
   "metadata": {
    "id": "XfDt1hmYkiys"
   },
   "outputs": [],
   "source": [
    "# Compile the model\n",
    "model.compile(loss='binary_crossentropy',optimizer='adam',metrics=['accuracy'])"
   ]
  },
  {
   "cell_type": "markdown",
   "metadata": {
    "id": "Axtd-WQAJIUK"
   },
   "source": [
    "    ## Train the Model\n",
    "\n",
    "Now you will feed in the prepared datasets to train the model. If you used the default hyperparameters, you will get around 99% training accuracy and 80% validation accuracy.\n",
    "\n",
    "*Tip: You can set the `verbose` parameter of `model.fit()` to `2` to indicate that you want to print just the results per epoch. Setting it to `1` (default) displays a progress bar per epoch, while `0` silences all displays. It doesn't matter much in this Colab but when working in a production environment, you may want to set this to `2` as recommended in the [documentation](https://keras.io/api/models/model_training_apis/#fit-method).*"
   ]
  },
  {
   "cell_type": "code",
   "execution_count": 48,
   "metadata": {
    "id": "2DTKQFf1kkyc"
   },
   "outputs": [
    {
     "name": "stdout",
     "output_type": "stream",
     "text": [
      "Epoch 1/30\n",
      "625/625 - 3s - loss: 0.5804 - accuracy: 0.6859 - val_loss: 0.4409 - val_accuracy: 0.8021 - 3s/epoch - 5ms/step\n",
      "Epoch 2/30\n",
      "625/625 - 2s - loss: 0.3995 - accuracy: 0.8196 - val_loss: 0.4032 - val_accuracy: 0.8140 - 2s/epoch - 4ms/step\n",
      "Epoch 3/30\n",
      "625/625 - 3s - loss: 0.3707 - accuracy: 0.8317 - val_loss: 0.3993 - val_accuracy: 0.8123 - 3s/epoch - 4ms/step\n",
      "Epoch 4/30\n",
      "625/625 - 2s - loss: 0.3615 - accuracy: 0.8353 - val_loss: 0.4002 - val_accuracy: 0.8174 - 2s/epoch - 4ms/step\n",
      "Epoch 5/30\n",
      "625/625 - 2s - loss: 0.3560 - accuracy: 0.8367 - val_loss: 0.4018 - val_accuracy: 0.8113 - 2s/epoch - 4ms/step\n",
      "Epoch 6/30\n",
      "625/625 - 2s - loss: 0.3544 - accuracy: 0.8385 - val_loss: 0.4051 - val_accuracy: 0.8111 - 2s/epoch - 4ms/step\n",
      "Epoch 7/30\n",
      "625/625 - 2s - loss: 0.3521 - accuracy: 0.8389 - val_loss: 0.4043 - val_accuracy: 0.8141 - 2s/epoch - 4ms/step\n",
      "Epoch 8/30\n",
      "625/625 - 2s - loss: 0.3513 - accuracy: 0.8432 - val_loss: 0.4064 - val_accuracy: 0.8126 - 2s/epoch - 4ms/step\n",
      "Epoch 9/30\n",
      "625/625 - 2s - loss: 0.3496 - accuracy: 0.8412 - val_loss: 0.4094 - val_accuracy: 0.8116 - 2s/epoch - 4ms/step\n",
      "Epoch 10/30\n",
      "625/625 - 2s - loss: 0.3487 - accuracy: 0.8431 - val_loss: 0.4103 - val_accuracy: 0.8092 - 2s/epoch - 4ms/step\n",
      "Epoch 11/30\n",
      "625/625 - 2s - loss: 0.3490 - accuracy: 0.8411 - val_loss: 0.4206 - val_accuracy: 0.8034 - 2s/epoch - 4ms/step\n",
      "Epoch 12/30\n",
      "625/625 - 2s - loss: 0.3482 - accuracy: 0.8409 - val_loss: 0.4073 - val_accuracy: 0.8129 - 2s/epoch - 3ms/step\n",
      "Epoch 13/30\n",
      "625/625 - 2s - loss: 0.3482 - accuracy: 0.8418 - val_loss: 0.4104 - val_accuracy: 0.8109 - 2s/epoch - 3ms/step\n",
      "Epoch 14/30\n",
      "625/625 - 2s - loss: 0.3473 - accuracy: 0.8421 - val_loss: 0.4088 - val_accuracy: 0.8132 - 2s/epoch - 4ms/step\n",
      "Epoch 15/30\n",
      "625/625 - 3s - loss: 0.3471 - accuracy: 0.8418 - val_loss: 0.4160 - val_accuracy: 0.8100 - 3s/epoch - 5ms/step\n",
      "Epoch 16/30\n",
      "625/625 - 3s - loss: 0.3473 - accuracy: 0.8433 - val_loss: 0.4084 - val_accuracy: 0.8111 - 3s/epoch - 4ms/step\n",
      "Epoch 17/30\n",
      "625/625 - 3s - loss: 0.3470 - accuracy: 0.8417 - val_loss: 0.4093 - val_accuracy: 0.8109 - 3s/epoch - 4ms/step\n",
      "Epoch 18/30\n",
      "625/625 - 3s - loss: 0.3466 - accuracy: 0.8421 - val_loss: 0.4095 - val_accuracy: 0.8123 - 3s/epoch - 4ms/step\n",
      "Epoch 19/30\n",
      "625/625 - 3s - loss: 0.3461 - accuracy: 0.8439 - val_loss: 0.4090 - val_accuracy: 0.8113 - 3s/epoch - 4ms/step\n",
      "Epoch 20/30\n",
      "625/625 - 3s - loss: 0.3459 - accuracy: 0.8433 - val_loss: 0.4093 - val_accuracy: 0.8110 - 3s/epoch - 5ms/step\n",
      "Epoch 21/30\n",
      "625/625 - 3s - loss: 0.3451 - accuracy: 0.8429 - val_loss: 0.4098 - val_accuracy: 0.8119 - 3s/epoch - 5ms/step\n",
      "Epoch 22/30\n",
      "625/625 - 3s - loss: 0.3440 - accuracy: 0.8447 - val_loss: 0.4070 - val_accuracy: 0.8122 - 3s/epoch - 5ms/step\n",
      "Epoch 23/30\n",
      "625/625 - 3s - loss: 0.3432 - accuracy: 0.8461 - val_loss: 0.4094 - val_accuracy: 0.8094 - 3s/epoch - 5ms/step\n",
      "Epoch 24/30\n",
      "625/625 - 4s - loss: 0.3427 - accuracy: 0.8442 - val_loss: 0.4168 - val_accuracy: 0.8114 - 4s/epoch - 6ms/step\n",
      "Epoch 25/30\n",
      "625/625 - 4s - loss: 0.3421 - accuracy: 0.8456 - val_loss: 0.4060 - val_accuracy: 0.8131 - 4s/epoch - 6ms/step\n",
      "Epoch 26/30\n",
      "625/625 - 4s - loss: 0.3402 - accuracy: 0.8457 - val_loss: 0.4046 - val_accuracy: 0.8138 - 4s/epoch - 6ms/step\n",
      "Epoch 27/30\n",
      "625/625 - 4s - loss: 0.3396 - accuracy: 0.8454 - val_loss: 0.4043 - val_accuracy: 0.8138 - 4s/epoch - 6ms/step\n",
      "Epoch 28/30\n",
      "625/625 - 3s - loss: 0.3374 - accuracy: 0.8461 - val_loss: 0.4025 - val_accuracy: 0.8159 - 3s/epoch - 5ms/step\n",
      "Epoch 29/30\n",
      "625/625 - 3s - loss: 0.3355 - accuracy: 0.8485 - val_loss: 0.3992 - val_accuracy: 0.8170 - 3s/epoch - 5ms/step\n",
      "Epoch 30/30\n",
      "625/625 - 3s - loss: 0.3332 - accuracy: 0.8483 - val_loss: 0.4014 - val_accuracy: 0.8176 - 3s/epoch - 5ms/step\n"
     ]
    }
   ],
   "source": [
    "num_epochs = 30\n",
    "\n",
    "# Train the model\n",
    "history = model.fit(training_padded, training_labels, epochs=num_epochs, validation_data=(testing_padded, testing_labels), verbose=2)"
   ]
  },
  {
   "cell_type": "markdown",
   "metadata": {
    "id": "L_bWhGOSJLLm"
   },
   "source": [
    "## Visualize the Results\n",
    "\n",
    "You can use the cell below to plot the training results. You may notice some overfitting because your validation accuracy is slowly dropping while the training accuracy is still going up. See if you can improve it by tweaking the hyperparameters. Some example values are shown in the lectures."
   ]
  },
  {
   "cell_type": "code",
   "execution_count": 49,
   "metadata": {
    "id": "2HYfBKXjkmU8"
   },
   "outputs": [
    {
     "data": {
      "text/plain": "<Figure size 432x288 with 1 Axes>",
      "image/png": "[encoded data removed]"
     },
     "metadata": {
      "needs_background": "light"
     },
     "output_type": "display_data"
    },
    {
     "data": {
      "text/plain": "<Figure size 432x288 with 1 Axes>",
      "image/png": "[encoded data removed]"
     },
     "metadata": {
      "needs_background": "light"
     },
     "output_type": "display_data"
    }
   ],
   "source": [
    "import matplotlib.pyplot as plt\n",
    "\n",
    "# Plot utility\n",
    "def plot_graphs(history, string):\n",
    "  plt.plot(history.history[string])\n",
    "  plt.plot(history.history['val_'+string])\n",
    "  plt.xlabel(\"Epochs\")\n",
    "  plt.ylabel(string)\n",
    "  plt.legend([string, 'val_'+string])\n",
    "  plt.show()\n",
    "  \n",
    "# Plot the accuracy and loss\n",
    "plot_graphs(history, \"accuracy\")\n",
    "plot_graphs(history, \"loss\")"
   ]
  },
  {
   "cell_type": "markdown",
   "metadata": {
    "id": "JN6kaxxcJQgd"
   },
   "source": [
    "## Visualize Word Embeddings\n",
    "\n",
    "As before, you can visualize the final weights of the embeddings using the [Tensorflow Embedding Projector](https://projector.tensorflow.org/)."
   ]
  },
  {
   "cell_type": "code",
   "execution_count": 50,
   "metadata": {
    "id": "c9MqihtEkzQ9"
   },
   "outputs": [
    {
     "ename": "AttributeError",
     "evalue": "'TextVectorization' object has no attribute 'index_word'",
     "output_type": "error",
     "traceback": [
      "\u001B[1;31m---------------------------------------------------------------------------\u001B[0m",
      "\u001B[1;31mAttributeError\u001B[0m                            Traceback (most recent call last)",
      "\u001B[1;32m~\\AppData\\Local\\Temp\\ipykernel_9304\\1699352009.py\u001B[0m in \u001B[0;36m<module>\u001B[1;34m\u001B[0m\n\u001B[0;32m      1\u001B[0m \u001B[1;31m# Get the index-word dictionary\u001B[0m\u001B[1;33m\u001B[0m\u001B[1;33m\u001B[0m\u001B[1;33m\u001B[0m\u001B[0m\n\u001B[1;32m----> 2\u001B[1;33m \u001B[0mreverse_word_index\u001B[0m \u001B[1;33m=\u001B[0m \u001B[0mtokenizer\u001B[0m\u001B[1;33m.\u001B[0m\u001B[0mindex_word\u001B[0m\u001B[1;33m\u001B[0m\u001B[1;33m\u001B[0m\u001B[0m\n\u001B[0m\u001B[0;32m      3\u001B[0m \u001B[1;33m\u001B[0m\u001B[0m\n\u001B[0;32m      4\u001B[0m \u001B[1;31m# Get the embedding layer from the model (i.e. first layer)\u001B[0m\u001B[1;33m\u001B[0m\u001B[1;33m\u001B[0m\u001B[1;33m\u001B[0m\u001B[0m\n\u001B[0;32m      5\u001B[0m \u001B[0membedding_layer\u001B[0m \u001B[1;33m=\u001B[0m \u001B[0mmodel\u001B[0m\u001B[1;33m.\u001B[0m\u001B[0mlayers\u001B[0m\u001B[1;33m[\u001B[0m\u001B[1;36m0\u001B[0m\u001B[1;33m]\u001B[0m\u001B[1;33m\u001B[0m\u001B[1;33m\u001B[0m\u001B[0m\n",
      "\u001B[1;31mAttributeError\u001B[0m: 'TextVectorization' object has no attribute 'index_word'"
     ]
    }
   ],
   "source": [
    "# Get the index-word dictionary\n",
    "reverse_word_index = tokenizer.index_word\n",
    "\n",
    "# Get the embedding layer from the model (i.e. first layer)\n",
    "embedding_layer = model.layers[0]\n",
    "\n",
    "# Get the weights of the embedding layer\n",
    "embedding_weights = embedding_layer.get_weights()[0]\n",
    "\n",
    "# Print the shape. Expected is (vocab_size, embedding_dim)\n",
    "print(embedding_weights.shape) \n"
   ]
  },
  {
   "cell_type": "code",
   "execution_count": 51,
   "metadata": {
    "id": "LoBXVffknldU"
   },
   "outputs": [],
   "source": [
    "import io\n",
    "\n",
    "# Open writeable files\n",
    "out_v = io.open('vecs.tsv', 'w', encoding='utf-8')\n",
    "out_m = io.open('meta.tsv', 'w', encoding='utf-8')\n",
    "\n",
    "# Initialize the loop. Start counting at `1` because `0` is just for the padding\n",
    "for word_num in range(1, vocab_size):\n",
    "\n",
    "  # Get the word associated at the current index\n",
    "  word_name = reverse_word_index[word_num]\n",
    "\n",
    "  # Get the embedding weights associated with the current index\n",
    "  word_embedding = embedding_weights[word_num]\n",
    "\n",
    "  # Write the word name\n",
    "  out_m.write(word_name + \"\\n\")\n",
    "\n",
    "  # Write the word embedding\n",
    "  out_v.write('\\t'.join([str(x) for x in word_embedding]) + \"\\n\")\n",
    "\n",
    "# Close the files\n",
    "out_v.close()\n",
    "out_m.close()"
   ]
  },
  {
   "cell_type": "code",
   "execution_count": null,
   "metadata": {
    "id": "U4eZ5HtVnnEE"
   },
   "outputs": [],
   "source": [
    "# Import files utilities in Colab\n",
    "try:\n",
    "  from google.colab import files\n",
    "except ImportError:\n",
    "  pass\n",
    "\n",
    "# Download the files\n",
    "else:\n",
    "  files.download('vecs.tsv')\n",
    "  files.download('meta.tsv')"
   ]
  },
  {
   "cell_type": "markdown",
   "metadata": {
    "id": "1GierJvdJWMt"
   },
   "source": [
    "## Wrap Up\n",
    "\n",
    "In this lab, you were able to build a binary classifier to detect sarcasm. You saw some overfitting in the initial attempt and hopefully, you were able to arrive at a better set of hyperparameters.\n",
    "\n",
    "So far, you've been tokenizing datasets from scratch and you're treating the vocab size as a hyperparameter. Furthermore, you're tokenizing the texts by building a vocabulary of full words. In the next lab, you will make use of a pre-tokenized dataset that uses a vocabulary of *subwords*. For instance, instead of having a uniqe token for the word `Tensorflow`, it will instead have a token each for `Ten`, `sor`, and `flow`. You will see the motivation and implications of having this design in the next exercise. See you there!"
   ]
  }
 ],
 "metadata": {
  "colab": {
   "collapsed_sections": [],
   "name": "C3_W2_Lab_2_sarcasm_classifier.ipynb",
   "private_outputs": true,
   "provenance": []
  },
  "kernelspec": {
   "display_name": "Python 3",
   "language": "python",
   "name": "python3"
  },
  "language_info": {
   "codemirror_mode": {
    "name": "ipython",
    "version": 3
   },
   "file_extension": ".py",
   "mimetype": "text/x-python",
   "name": "python",
   "nbconvert_exporter": "python",
   "pygments_lexer": "ipython3",
   "version": "3.7.4"
  }
 },
 "nbformat": 4,
 "nbformat_minor": 1
}