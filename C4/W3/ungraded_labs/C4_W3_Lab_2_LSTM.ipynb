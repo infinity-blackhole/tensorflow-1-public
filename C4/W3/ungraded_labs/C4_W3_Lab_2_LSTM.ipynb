{
 "nbformat": 4,
 "nbformat_minor": 0,
 "metadata": {
  "colab": {
   "name": "C4_W3_Lab_2_LSTM.ipynb",
   "provenance": [],
   "collapsed_sections": [],
   "toc_visible": true,
   "include_colab_link": true
  },
  "kernelspec": {
   "name": "python3",
   "display_name": "Python 3"
  },
  "language_info": {
   "name": "python"
  },
  "accelerator": "GPU"
 },
 "cells": [
  {
   "cell_type": "markdown",
   "metadata": {
    "id": "view-in-github",
    "colab_type": "text"
   },
   "source": [
    "<a href=\"https://colab.research.google.com/github/https-deeplearning-ai/tensorflow-1-public/blob/adding_C4/C4/W3/ungraded_labs/C4_W3_Lab_2_LSTM.ipynb\" target=\"_parent\"><img src=\"https://colab.research.google.com/assets/colab-badge.svg\" alt=\"Open In Colab\"/></a>"
   ]
  },
  {
   "cell_type": "code",
   "metadata": {
    "id": "zX4Kg8DUTKWO"
   },
   "source": [
    "#@title Licensed under the Apache License, Version 2.0 (the \"License\");\n",
    "# you may not use this file except in compliance with the License.\n",
    "# You may obtain a copy of the License at\n",
    "#\n",
    "# https://www.apache.org/licenses/LICENSE-2.0\n",
    "#\n",
    "# Unless required by applicable law or agreed to in writing, software\n",
    "# distributed under the License is distributed on an \"AS IS\" BASIS,\n",
    "# WITHOUT WARRANTIES OR CONDITIONS OF ANY KIND, either express or implied.\n",
    "# See the License for the specific language governing permissions and\n",
    "# limitations under the License."
   ],
   "execution_count": 1,
   "outputs": []
  },
  {
   "cell_type": "markdown",
   "metadata": {
    "id": "L-U2ulrvAH-3"
   },
   "source": [
    "**Note:** This notebook can run using TensorFlow 2.5.0"
   ]
  },
  {
   "cell_type": "code",
   "metadata": {
    "id": "D1J15Vh_1Jih"
   },
   "source": [
    "#!pip install tensorflow==2.5.0"
   ],
   "execution_count": 2,
   "outputs": []
  },
  {
   "cell_type": "code",
   "metadata": {
    "id": "BOjujz601HcS"
   },
   "source": [
    "import tensorflow as tf\n",
    "import numpy as np\n",
    "import matplotlib.pyplot as plt\n",
    "print(tf.__version__)"
   ],
   "execution_count": 3,
   "outputs": [
    {
     "name": "stdout",
     "output_type": "stream",
     "text": [
      "2.7.0\n"
     ]
    }
   ]
  },
  {
   "cell_type": "code",
   "metadata": {
    "id": "Zswl7jRtGzkk"
   },
   "source": [
    "def plot_series(time, series, format=\"-\", start=0, end=None):\n",
    "    plt.plot(time[start:end], series[start:end], format)\n",
    "    plt.xlabel(\"Time\")\n",
    "    plt.ylabel(\"Value\")\n",
    "    plt.grid(True)\n",
    "\n",
    "def trend(time, slope=0):\n",
    "    return slope * time\n",
    "\n",
    "def seasonal_pattern(season_time):\n",
    "    \"\"\"Just an arbitrary pattern, you can change it if you wish\"\"\"\n",
    "    return np.where(season_time < 0.4,\n",
    "                    np.cos(season_time * 2 * np.pi),\n",
    "                    1 / np.exp(3 * season_time))\n",
    "\n",
    "def seasonality(time, period, amplitude=1, phase=0):\n",
    "    \"\"\"Repeats the same pattern at each period\"\"\"\n",
    "    season_time = ((time + phase) % period) / period\n",
    "    return amplitude * seasonal_pattern(season_time)\n",
    "\n",
    "def noise(time, noise_level=1, seed=None):\n",
    "    rnd = np.random.RandomState(seed)\n",
    "    return rnd.randn(len(time)) * noise_level\n",
    "\n",
    "time = np.arange(4 * 365 + 1, dtype=\"float32\")\n",
    "baseline = 10\n",
    "series = trend(time, 0.1)  \n",
    "baseline = 10\n",
    "amplitude = 40\n",
    "slope = 0.05\n",
    "noise_level = 5\n",
    "\n",
    "# Create the series\n",
    "series = baseline + trend(time, slope) + seasonality(time, period=365, amplitude=amplitude)\n",
    "# Update with noise\n",
    "series += noise(time, noise_level, seed=42)\n",
    "\n",
    "split_time = 1000\n",
    "time_train = time[:split_time]\n",
    "x_train = series[:split_time]\n",
    "time_valid = time[split_time:]\n",
    "x_valid = series[split_time:]\n",
    "\n",
    "window_size = 20\n",
    "batch_size = 32\n",
    "shuffle_buffer_size = 1000"
   ],
   "execution_count": 4,
   "outputs": []
  },
  {
   "cell_type": "code",
   "metadata": {
    "id": "4sTTIOCbyShY"
   },
   "source": [
    "def windowed_dataset(series, window_size, batch_size, shuffle_buffer):\n",
    "  dataset = tf.data.Dataset.from_tensor_slices(series)\n",
    "  dataset = dataset.window(window_size + 1, shift=1, drop_remainder=True)\n",
    "  dataset = dataset.flat_map(lambda window: window.batch(window_size + 1))\n",
    "  dataset = dataset.shuffle(shuffle_buffer).map(lambda window: (window[:-1], window[-1]))\n",
    "  dataset = dataset.batch(batch_size).prefetch(1)\n",
    "  return dataset"
   ],
   "execution_count": 5,
   "outputs": []
  },
  {
   "cell_type": "code",
   "metadata": {
    "id": "A1Hl39rklkLm"
   },
   "source": [
    "tf.keras.backend.clear_session()\n",
    "tf.random.set_seed(51)\n",
    "np.random.seed(51)\n",
    "\n",
    "tf.keras.backend.clear_session()\n",
    "dataset = windowed_dataset(x_train, window_size, batch_size, shuffle_buffer_size)\n",
    "\n",
    "model = tf.keras.models.Sequential([\n",
    "  tf.keras.layers.Lambda(lambda x: tf.expand_dims(x, axis=-1),\n",
    "                      input_shape=[None]),\n",
    "    tf.keras.layers.Bidirectional(tf.keras.layers.LSTM(32, return_sequences=True)),\n",
    "  tf.keras.layers.Bidirectional(tf.keras.layers.LSTM(32)),\n",
    "  tf.keras.layers.Dense(1),\n",
    "  tf.keras.layers.Lambda(lambda x: x * 100.0)\n",
    "])\n",
    "\n",
    "lr_schedule = tf.keras.callbacks.LearningRateScheduler(\n",
    "    lambda epoch: 1e-8 * 10**(epoch / 20))\n",
    "optimizer = tf.keras.optimizers.SGD(learning_rate=1e-8, momentum=0.9)\n",
    "model.compile(loss=tf.keras.losses.Huber(),\n",
    "              optimizer=optimizer,\n",
    "              metrics=[\"mae\"])\n",
    "history = model.fit(dataset, epochs=100, callbacks=[lr_schedule])"
   ],
   "execution_count": 6,
   "outputs": [
    {
     "name": "stdout",
     "output_type": "stream",
     "text": [
      "Epoch 1/100\n",
      "31/31 [==============================] - 10s 29ms/step - loss: 21.5167 - mae: 22.0115 - lr: 1.0000e-08\n",
      "Epoch 2/100\n",
      "31/31 [==============================] - 1s 16ms/step - loss: 21.1522 - mae: 21.6444 - lr: 1.1220e-08\n",
      "Epoch 3/100\n",
      "31/31 [==============================] - 1s 16ms/step - loss: 20.7302 - mae: 21.2236 - lr: 1.2589e-08\n",
      "Epoch 4/100\n",
      "31/31 [==============================] - 1s 18ms/step - loss: 20.2834 - mae: 20.7757 - lr: 1.4125e-08\n",
      "Epoch 5/100\n",
      "31/31 [==============================] - 1s 15ms/step - loss: 19.7897 - mae: 20.2855 - lr: 1.5849e-08\n",
      "Epoch 6/100\n",
      "31/31 [==============================] - 1s 15ms/step - loss: 19.1782 - mae: 19.6696 - lr: 1.7783e-08\n",
      "Epoch 7/100\n",
      "31/31 [==============================] - 1s 15ms/step - loss: 18.2410 - mae: 18.7333 - lr: 1.9953e-08\n",
      "Epoch 8/100\n",
      "31/31 [==============================] - 1s 15ms/step - loss: 17.4825 - mae: 17.9748 - lr: 2.2387e-08\n",
      "Epoch 9/100\n",
      "31/31 [==============================] - 1s 15ms/step - loss: 17.1597 - mae: 17.6529 - lr: 2.5119e-08\n",
      "Epoch 10/100\n",
      "31/31 [==============================] - 1s 15ms/step - loss: 16.8547 - mae: 17.3463 - lr: 2.8184e-08\n",
      "Epoch 11/100\n",
      "31/31 [==============================] - 1s 15ms/step - loss: 16.5533 - mae: 17.0471 - lr: 3.1623e-08\n",
      "Epoch 12/100\n",
      "31/31 [==============================] - 1s 14ms/step - loss: 16.2565 - mae: 16.7524 - lr: 3.5481e-08\n",
      "Epoch 13/100\n",
      "31/31 [==============================] - 1s 15ms/step - loss: 15.9629 - mae: 16.4598 - lr: 3.9811e-08\n",
      "Epoch 14/100\n",
      "31/31 [==============================] - 1s 14ms/step - loss: 15.6593 - mae: 16.1548 - lr: 4.4668e-08\n",
      "Epoch 15/100\n",
      "31/31 [==============================] - 1s 14ms/step - loss: 15.3713 - mae: 15.8652 - lr: 5.0119e-08\n",
      "Epoch 16/100\n",
      "31/31 [==============================] - 1s 14ms/step - loss: 15.0752 - mae: 15.5697 - lr: 5.6234e-08\n",
      "Epoch 17/100\n",
      "31/31 [==============================] - 1s 14ms/step - loss: 14.7905 - mae: 15.2869 - lr: 6.3096e-08\n",
      "Epoch 18/100\n",
      "31/31 [==============================] - 1s 14ms/step - loss: 14.5229 - mae: 15.0178 - lr: 7.0795e-08\n",
      "Epoch 19/100\n",
      "31/31 [==============================] - 1s 15ms/step - loss: 14.2707 - mae: 14.7636 - lr: 7.9433e-08\n",
      "Epoch 20/100\n",
      "31/31 [==============================] - 1s 14ms/step - loss: 14.0293 - mae: 14.5217 - lr: 8.9125e-08\n",
      "Epoch 21/100\n",
      "31/31 [==============================] - 1s 14ms/step - loss: 13.8191 - mae: 14.3135 - lr: 1.0000e-07\n",
      "Epoch 22/100\n",
      "31/31 [==============================] - 1s 16ms/step - loss: 13.6084 - mae: 14.1032 - lr: 1.1220e-07\n",
      "Epoch 23/100\n",
      "31/31 [==============================] - 1s 15ms/step - loss: 13.4096 - mae: 13.9038 - lr: 1.2589e-07\n",
      "Epoch 24/100\n",
      "31/31 [==============================] - 1s 14ms/step - loss: 13.1859 - mae: 13.6794 - lr: 1.4125e-07\n",
      "Epoch 25/100\n",
      "31/31 [==============================] - 1s 14ms/step - loss: 12.9819 - mae: 13.4747 - lr: 1.5849e-07\n",
      "Epoch 26/100\n",
      "31/31 [==============================] - 1s 14ms/step - loss: 12.7278 - mae: 13.2184 - lr: 1.7783e-07\n",
      "Epoch 27/100\n",
      "31/31 [==============================] - 1s 15ms/step - loss: 12.4886 - mae: 12.9799 - lr: 1.9953e-07\n",
      "Epoch 28/100\n",
      "31/31 [==============================] - 1s 16ms/step - loss: 12.3459 - mae: 12.8362 - lr: 2.2387e-07\n",
      "Epoch 29/100\n",
      "31/31 [==============================] - 1s 14ms/step - loss: 11.9127 - mae: 12.4017 - lr: 2.5119e-07\n",
      "Epoch 30/100\n",
      "31/31 [==============================] - 1s 14ms/step - loss: 11.5934 - mae: 12.0835 - lr: 2.8184e-07\n",
      "Epoch 31/100\n",
      "31/31 [==============================] - 1s 14ms/step - loss: 11.2859 - mae: 11.7771 - lr: 3.1623e-07\n",
      "Epoch 32/100\n",
      "31/31 [==============================] - 1s 14ms/step - loss: 11.3520 - mae: 11.8418 - lr: 3.5481e-07\n",
      "Epoch 33/100\n",
      "31/31 [==============================] - 1s 14ms/step - loss: 10.5232 - mae: 11.0139 - lr: 3.9811e-07\n",
      "Epoch 34/100\n",
      "31/31 [==============================] - 1s 14ms/step - loss: 10.5499 - mae: 11.0381 - lr: 4.4668e-07\n",
      "Epoch 35/100\n",
      "31/31 [==============================] - 1s 15ms/step - loss: 10.0680 - mae: 10.5531 - lr: 5.0119e-07\n",
      "Epoch 36/100\n",
      "31/31 [==============================] - 1s 14ms/step - loss: 10.6386 - mae: 11.1311 - lr: 5.6234e-07\n",
      "Epoch 37/100\n",
      "31/31 [==============================] - 1s 14ms/step - loss: 10.2342 - mae: 10.7248 - lr: 6.3096e-07\n",
      "Epoch 38/100\n",
      "31/31 [==============================] - 1s 14ms/step - loss: 9.6678 - mae: 10.1558 - lr: 7.0795e-07\n",
      "Epoch 39/100\n",
      "31/31 [==============================] - 1s 14ms/step - loss: 9.1516 - mae: 9.6361 - lr: 7.9433e-07\n",
      "Epoch 40/100\n",
      "31/31 [==============================] - 1s 15ms/step - loss: 8.6985 - mae: 9.1843 - lr: 8.9125e-07\n",
      "Epoch 41/100\n",
      "31/31 [==============================] - 1s 14ms/step - loss: 8.2776 - mae: 8.7628 - lr: 1.0000e-06\n",
      "Epoch 42/100\n",
      "31/31 [==============================] - 1s 14ms/step - loss: 7.9341 - mae: 8.4187 - lr: 1.1220e-06\n",
      "Epoch 43/100\n",
      "31/31 [==============================] - 1s 15ms/step - loss: 7.6090 - mae: 8.0929 - lr: 1.2589e-06\n",
      "Epoch 44/100\n",
      "31/31 [==============================] - 1s 14ms/step - loss: 7.3647 - mae: 7.8508 - lr: 1.4125e-06\n",
      "Epoch 45/100\n",
      "31/31 [==============================] - 1s 14ms/step - loss: 7.2052 - mae: 7.6888 - lr: 1.5849e-06\n",
      "Epoch 46/100\n",
      "31/31 [==============================] - 1s 15ms/step - loss: 6.8925 - mae: 7.3749 - lr: 1.7783e-06\n",
      "Epoch 47/100\n",
      "31/31 [==============================] - 1s 15ms/step - loss: 6.6810 - mae: 7.1646 - lr: 1.9953e-06\n",
      "Epoch 48/100\n",
      "31/31 [==============================] - 1s 16ms/step - loss: 6.5773 - mae: 7.0596 - lr: 2.2387e-06\n",
      "Epoch 49/100\n",
      "31/31 [==============================] - 1s 14ms/step - loss: 6.2082 - mae: 6.6843 - lr: 2.5119e-06\n",
      "Epoch 50/100\n",
      "31/31 [==============================] - 1s 14ms/step - loss: 6.0392 - mae: 6.5181 - lr: 2.8184e-06\n",
      "Epoch 51/100\n",
      "31/31 [==============================] - 1s 16ms/step - loss: 5.9102 - mae: 6.3880 - lr: 3.1623e-06\n",
      "Epoch 52/100\n",
      "31/31 [==============================] - 1s 16ms/step - loss: 5.7768 - mae: 6.2584 - lr: 3.5481e-06\n",
      "Epoch 53/100\n",
      "31/31 [==============================] - 1s 15ms/step - loss: 5.6294 - mae: 6.1096 - lr: 3.9811e-06\n",
      "Epoch 54/100\n",
      "31/31 [==============================] - 1s 16ms/step - loss: 5.5201 - mae: 5.9942 - lr: 4.4668e-06\n",
      "Epoch 55/100\n",
      "31/31 [==============================] - 1s 16ms/step - loss: 5.3904 - mae: 5.8625 - lr: 5.0119e-06\n",
      "Epoch 56/100\n",
      "31/31 [==============================] - 1s 16ms/step - loss: 5.5557 - mae: 6.0296 - lr: 5.6234e-06\n",
      "Epoch 57/100\n",
      "31/31 [==============================] - 1s 16ms/step - loss: 5.2780 - mae: 5.7557 - lr: 6.3096e-06\n",
      "Epoch 58/100\n",
      "31/31 [==============================] - 1s 16ms/step - loss: 5.2561 - mae: 5.7343 - lr: 7.0795e-06\n",
      "Epoch 59/100\n",
      "31/31 [==============================] - 1s 16ms/step - loss: 5.1173 - mae: 5.5959 - lr: 7.9433e-06\n",
      "Epoch 60/100\n",
      "31/31 [==============================] - 1s 15ms/step - loss: 5.0497 - mae: 5.5241 - lr: 8.9125e-06\n",
      "Epoch 61/100\n",
      "31/31 [==============================] - 1s 16ms/step - loss: 5.3113 - mae: 5.7903 - lr: 1.0000e-05\n",
      "Epoch 62/100\n",
      "31/31 [==============================] - 1s 15ms/step - loss: 5.2183 - mae: 5.6980 - lr: 1.1220e-05\n",
      "Epoch 63/100\n",
      "31/31 [==============================] - 1s 14ms/step - loss: 5.0219 - mae: 5.4965 - lr: 1.2589e-05\n",
      "Epoch 64/100\n",
      "31/31 [==============================] - 1s 15ms/step - loss: 4.8370 - mae: 5.3113 - lr: 1.4125e-05\n",
      "Epoch 65/100\n",
      "31/31 [==============================] - 1s 15ms/step - loss: 5.2810 - mae: 5.7605 - lr: 1.5849e-05\n",
      "Epoch 66/100\n",
      "31/31 [==============================] - 1s 15ms/step - loss: 5.3647 - mae: 5.8480 - lr: 1.7783e-05\n",
      "Epoch 67/100\n",
      "31/31 [==============================] - 1s 16ms/step - loss: 6.1195 - mae: 6.6021 - lr: 1.9953e-05\n",
      "Epoch 68/100\n",
      "31/31 [==============================] - 1s 17ms/step - loss: 5.2307 - mae: 5.7150 - lr: 2.2387e-05\n",
      "Epoch 69/100\n",
      "31/31 [==============================] - 1s 15ms/step - loss: 5.5996 - mae: 6.0808 - lr: 2.5119e-05\n",
      "Epoch 70/100\n",
      "31/31 [==============================] - 1s 15ms/step - loss: 5.1457 - mae: 5.6257 - lr: 2.8184e-05\n",
      "Epoch 71/100\n",
      "31/31 [==============================] - 1s 16ms/step - loss: 5.6274 - mae: 6.1092 - lr: 3.1623e-05\n",
      "Epoch 72/100\n",
      "31/31 [==============================] - 1s 17ms/step - loss: 6.1974 - mae: 6.6779 - lr: 3.5481e-05\n",
      "Epoch 73/100\n",
      "31/31 [==============================] - 1s 15ms/step - loss: 5.4975 - mae: 5.9809 - lr: 3.9811e-05\n",
      "Epoch 74/100\n",
      "31/31 [==============================] - 1s 16ms/step - loss: 5.1923 - mae: 5.6708 - lr: 4.4668e-05\n",
      "Epoch 75/100\n",
      "31/31 [==============================] - 1s 16ms/step - loss: 6.1925 - mae: 6.6757 - lr: 5.0119e-05\n",
      "Epoch 76/100\n",
      "31/31 [==============================] - 1s 16ms/step - loss: 4.7996 - mae: 5.2763 - lr: 5.6234e-05\n",
      "Epoch 77/100\n",
      "31/31 [==============================] - 1s 16ms/step - loss: 5.7515 - mae: 6.2328 - lr: 6.3096e-05\n",
      "Epoch 78/100\n",
      "31/31 [==============================] - 1s 15ms/step - loss: 5.8972 - mae: 6.3839 - lr: 7.0795e-05\n",
      "Epoch 79/100\n",
      "31/31 [==============================] - 1s 16ms/step - loss: 5.1927 - mae: 5.6773 - lr: 7.9433e-05\n",
      "Epoch 80/100\n",
      "31/31 [==============================] - 1s 15ms/step - loss: 4.9869 - mae: 5.4630 - lr: 8.9125e-05\n",
      "Epoch 81/100\n",
      "31/31 [==============================] - 1s 15ms/step - loss: 6.7282 - mae: 7.2091 - lr: 1.0000e-04\n",
      "Epoch 82/100\n",
      "31/31 [==============================] - 1s 15ms/step - loss: 6.9343 - mae: 7.4197 - lr: 1.1220e-04\n",
      "Epoch 83/100\n",
      "31/31 [==============================] - 1s 15ms/step - loss: 6.1221 - mae: 6.6064 - lr: 1.2589e-04\n",
      "Epoch 84/100\n",
      "31/31 [==============================] - 1s 15ms/step - loss: 6.6301 - mae: 7.1115 - lr: 1.4125e-04\n",
      "Epoch 85/100\n",
      "31/31 [==============================] - 1s 14ms/step - loss: 6.1399 - mae: 6.6202 - lr: 1.5849e-04\n",
      "Epoch 86/100\n",
      "31/31 [==============================] - 1s 14ms/step - loss: 12.4927 - mae: 12.9848 - lr: 1.7783e-04\n",
      "Epoch 87/100\n",
      "31/31 [==============================] - 1s 16ms/step - loss: 7.4677 - mae: 7.9501 - lr: 1.9953e-04\n",
      "Epoch 88/100\n",
      "31/31 [==============================] - 1s 15ms/step - loss: 7.8186 - mae: 8.3069 - lr: 2.2387e-04\n",
      "Epoch 89/100\n",
      "31/31 [==============================] - 1s 15ms/step - loss: 7.8320 - mae: 8.3196 - lr: 2.5119e-04\n",
      "Epoch 90/100\n",
      "31/31 [==============================] - 1s 17ms/step - loss: 6.1718 - mae: 6.6536 - lr: 2.8184e-04\n",
      "Epoch 91/100\n",
      "31/31 [==============================] - 1s 15ms/step - loss: 7.7078 - mae: 8.1986 - lr: 3.1623e-04\n",
      "Epoch 92/100\n",
      "31/31 [==============================] - 1s 15ms/step - loss: 7.8018 - mae: 8.2836 - lr: 3.5481e-04\n",
      "Epoch 93/100\n",
      "31/31 [==============================] - 1s 15ms/step - loss: 8.4433 - mae: 8.9331 - lr: 3.9811e-04\n",
      "Epoch 94/100\n",
      "31/31 [==============================] - 1s 16ms/step - loss: 8.9356 - mae: 9.4233 - lr: 4.4668e-04\n",
      "Epoch 95/100\n",
      "31/31 [==============================] - 1s 16ms/step - loss: 9.1664 - mae: 9.6557 - lr: 5.0119e-04\n",
      "Epoch 96/100\n",
      "31/31 [==============================] - 1s 16ms/step - loss: 10.0033 - mae: 10.4957 - lr: 5.6234e-04\n",
      "Epoch 97/100\n",
      "31/31 [==============================] - 1s 16ms/step - loss: 7.7096 - mae: 8.1970 - lr: 6.3096e-04\n",
      "Epoch 98/100\n",
      "31/31 [==============================] - 1s 16ms/step - loss: 10.1448 - mae: 10.6342 - lr: 7.0795e-04\n",
      "Epoch 99/100\n",
      "31/31 [==============================] - 1s 15ms/step - loss: 10.8129 - mae: 11.3044 - lr: 7.9433e-04\n",
      "Epoch 100/100\n",
      "31/31 [==============================] - 1s 16ms/step - loss: 11.8751 - mae: 12.3689 - lr: 8.9125e-04\n"
     ]
    }
   ]
  },
  {
   "cell_type": "code",
   "metadata": {
    "id": "AkBsrsXMzoWR"
   },
   "source": [
    "plt.semilogx(history.history[\"lr\"], history.history[\"loss\"])\n",
    "plt.axis([1e-8, 1e-4, 0, 30])"
   ],
   "execution_count": 7,
   "outputs": [
    {
     "data": {
      "text/plain": "(1e-08, 0.0001, 0.0, 30.0)"
     },
     "execution_count": 7,
     "metadata": {},
     "output_type": "execute_result"
    },
    {
     "data": {
      "text/plain": "<Figure size 432x288 with 1 Axes>",
      "image/png": "[encoded data removed]"
     },
     "metadata": {
      "needs_background": "light"
     },
     "output_type": "display_data"
    }
   ]
  },
  {
   "cell_type": "code",
   "metadata": {
    "id": "4uh-97bpLZCA"
   },
   "source": [
    "# This code block will take some time to run.\n",
    "# But it will run in the background, without displaying/printing \n",
    "# the information about the number of epochs.\n",
    "\n",
    "\n",
    "tf.keras.backend.clear_session()\n",
    "tf.random.set_seed(51)\n",
    "np.random.seed(51)\n",
    "\n",
    "tf.keras.backend.clear_session()\n",
    "dataset = windowed_dataset(x_train, window_size, batch_size, shuffle_buffer_size)\n",
    "\n",
    "model = tf.keras.models.Sequential([\n",
    "  tf.keras.layers.Lambda(lambda x: tf.expand_dims(x, axis=-1),\n",
    "                      input_shape=[None]),\n",
    "   tf.keras.layers.Bidirectional(tf.keras.layers.LSTM(32, return_sequences=True)),\n",
    "  tf.keras.layers.Bidirectional(tf.keras.layers.LSTM(32)),\n",
    "  tf.keras.layers.Dense(1),\n",
    "  tf.keras.layers.Lambda(lambda x: x * 100.0)\n",
    "])\n",
    "\n",
    "\n",
    "model.compile(loss=\"mse\", optimizer=tf.keras.optimizers.SGD(learning_rate=1e-5, momentum=0.9),metrics=[\"mae\"])\n",
    "history = model.fit(dataset,epochs=500,verbose=0)"
   ],
   "execution_count": 8,
   "outputs": []
  },
  {
   "cell_type": "code",
   "metadata": {
    "id": "icGDaND7z0ne"
   },
   "source": [
    "forecast = []\n",
    "results = []\n",
    "for time in range(len(series) - window_size):\n",
    "  forecast.append(model.predict(series[time:time + window_size][np.newaxis]))\n",
    "\n",
    "forecast = forecast[split_time-window_size:]\n",
    "results = np.array(forecast)[:, 0, 0]\n",
    "\n",
    "\n",
    "plt.figure(figsize=(10, 6))\n",
    "\n",
    "plot_series(time_valid, x_valid)\n",
    "plot_series(time_valid, results)"
   ],
   "execution_count": 9,
   "outputs": [
    {
     "data": {
      "text/plain": "<Figure size 720x432 with 1 Axes>",
      "image/png": "[encoded data removed]"
     },
     "metadata": {
      "needs_background": "light"
     },
     "output_type": "display_data"
    }
   ]
  },
  {
   "cell_type": "code",
   "metadata": {
    "id": "KfPeqI7rz4LD"
   },
   "source": [
    "tf.keras.metrics.mean_absolute_error(x_valid, results).numpy()"
   ],
   "execution_count": 10,
   "outputs": [
    {
     "data": {
      "text/plain": "5.638265"
     },
     "execution_count": 10,
     "metadata": {},
     "output_type": "execute_result"
    }
   ]
  },
  {
   "cell_type": "code",
   "metadata": {
    "id": "JUsdZB_tzDLe"
   },
   "source": [
    "import matplotlib.image  as mpimg\n",
    "import matplotlib.pyplot as plt\n",
    "\n",
    "#-----------------------------------------------------------\n",
    "# Retrieve a list of list results on training and test data\n",
    "# sets for each training epoch\n",
    "#-----------------------------------------------------------\n",
    "mae=history.history['mae']\n",
    "loss=history.history['loss']\n",
    "\n",
    "epochs=range(len(loss)) # Get number of epochs\n",
    "\n",
    "#------------------------------------------------\n",
    "# Plot MAE and Loss\n",
    "#------------------------------------------------\n",
    "plt.plot(epochs, mae, 'r')\n",
    "plt.plot(epochs, loss, 'b')\n",
    "plt.title('MAE and Loss')\n",
    "plt.xlabel(\"Epochs\")\n",
    "plt.ylabel(\"Accuracy\")\n",
    "plt.legend([\"MAE\", \"Loss\"])\n",
    "\n",
    "plt.figure()\n",
    "\n",
    "epochs_zoom = epochs[200:]\n",
    "mae_zoom = mae[200:]\n",
    "loss_zoom = loss[200:]\n",
    "\n",
    "#------------------------------------------------\n",
    "# Plot Zoomed MAE and Loss\n",
    "#------------------------------------------------\n",
    "plt.plot(epochs_zoom, mae_zoom, 'r')\n",
    "plt.plot(epochs_zoom, loss_zoom, 'b')\n",
    "plt.title('MAE and Loss')\n",
    "plt.xlabel(\"Epochs\")\n",
    "plt.ylabel(\"Accuracy\")\n",
    "plt.legend([\"MAE\", \"Loss\"])\n",
    "\n",
    "plt.figure()"
   ],
   "execution_count": 11,
   "outputs": [
    {
     "data": {
      "text/plain": "<Figure size 432x288 with 0 Axes>"
     },
     "execution_count": 11,
     "metadata": {},
     "output_type": "execute_result"
    },
    {
     "data": {
      "text/plain": "<Figure size 432x288 with 1 Axes>",
      "image/png": "[encoded data removed]"
     },
     "metadata": {
      "needs_background": "light"
     },
     "output_type": "display_data"
    },
    {
     "data": {
      "text/plain": "<Figure size 432x288 with 1 Axes>",
      "image/png": "[encoded data removed]"
     },
     "metadata": {
      "needs_background": "light"
     },
     "output_type": "display_data"
    },
    {
     "data": {
      "text/plain": "<Figure size 432x288 with 0 Axes>"
     },
     "metadata": {},
     "output_type": "display_data"
    }
   ]
  },
  {
   "cell_type": "code",
   "metadata": {
    "id": "3CGaYFxXNEAK"
   },
   "source": [
    "# This code block will take some time to run.\n",
    "# But it will run in the background, without displaying/printing \n",
    "# the information about the number of epochs.\n",
    "\n",
    "tf.keras.backend.clear_session()\n",
    "dataset = windowed_dataset(x_train, window_size, batch_size, shuffle_buffer_size)\n",
    "\n",
    "model = tf.keras.models.Sequential([\n",
    "  tf.keras.layers.Lambda(lambda x: tf.expand_dims(x, axis=-1),\n",
    "                      input_shape=[None]),\n",
    "  tf.keras.layers.Bidirectional(tf.keras.layers.LSTM(32, return_sequences=True)),\n",
    "  tf.keras.layers.Bidirectional(tf.keras.layers.LSTM(32)),\n",
    "  tf.keras.layers.Dense(1),\n",
    "  tf.keras.layers.Lambda(lambda x: x * 100.0)\n",
    "])\n",
    "\n",
    "\n",
    "model.compile(loss=\"mse\", optimizer=tf.keras.optimizers.SGD(learning_rate=1e-6, momentum=0.9))\n",
    "model.fit(dataset,epochs=100, verbose=0)"
   ],
   "execution_count": 12,
   "outputs": [
    {
     "data": {
      "text/plain": "<keras.callbacks.History at 0x1fad925ac08>"
     },
     "execution_count": 12,
     "metadata": {},
     "output_type": "execute_result"
    }
   ]
  },
  {
   "cell_type": "code",
   "metadata": {
    "id": "FJ3R8ysauz9e"
   },
   "source": [
    "tf.keras.backend.clear_session()\n",
    "dataset = windowed_dataset(x_train, window_size, batch_size, shuffle_buffer_size)\n",
    "\n",
    "model = tf.keras.models.Sequential([\n",
    "  tf.keras.layers.Lambda(lambda x: tf.expand_dims(x, axis=-1),\n",
    "                      input_shape=[None]),\n",
    "  tf.keras.layers.Bidirectional(tf.keras.layers.LSTM(32, return_sequences=True)),\n",
    "  tf.keras.layers.Bidirectional(tf.keras.layers.LSTM(32, return_sequences=True)),\n",
    "  tf.keras.layers.Bidirectional(tf.keras.layers.LSTM(32)),\n",
    "  tf.keras.layers.Dense(1),\n",
    "  tf.keras.layers.Lambda(lambda x: x * 100.0)\n",
    "])\n",
    "\n",
    "\n",
    "model.compile(loss=\"mse\", optimizer=tf.keras.optimizers.SGD(learning_rate=1e-6, momentum=0.9))\n",
    "history = model.fit(dataset,epochs=100)"
   ],
   "execution_count": 15,
   "outputs": [
    {
     "name": "stdout",
     "output_type": "stream",
     "text": [
      "Epoch 1/100\n",
      "31/31 [==============================] - 8s 27ms/step - loss: 367.0194\n",
      "Epoch 2/100\n",
      "31/31 [==============================] - 1s 20ms/step - loss: 124.7304\n",
      "Epoch 3/100\n",
      "31/31 [==============================] - 1s 19ms/step - loss: 94.5509\n",
      "Epoch 4/100\n",
      "31/31 [==============================] - 1s 20ms/step - loss: 83.9349\n",
      "Epoch 5/100\n",
      "31/31 [==============================] - 1s 23ms/step - loss: 90.0686\n",
      "Epoch 6/100\n",
      "31/31 [==============================] - 1s 21ms/step - loss: 71.5130\n",
      "Epoch 7/100\n",
      "31/31 [==============================] - 1s 23ms/step - loss: 72.3548\n",
      "Epoch 8/100\n",
      "31/31 [==============================] - 1s 22ms/step - loss: 64.6324\n",
      "Epoch 9/100\n",
      "31/31 [==============================] - 1s 22ms/step - loss: 68.9457\n",
      "Epoch 10/100\n",
      "31/31 [==============================] - 1s 30ms/step - loss: 63.1196\n",
      "Epoch 11/100\n",
      "31/31 [==============================] - 1s 39ms/step - loss: 59.9202\n",
      "Epoch 12/100\n",
      "31/31 [==============================] - 1s 36ms/step - loss: 58.1319\n",
      "Epoch 13/100\n",
      "31/31 [==============================] - 1s 35ms/step - loss: 59.8948\n",
      "Epoch 14/100\n",
      "31/31 [==============================] - 1s 22ms/step - loss: 57.6958\n",
      "Epoch 15/100\n",
      "31/31 [==============================] - 1s 21ms/step - loss: 55.5224\n",
      "Epoch 16/100\n",
      "31/31 [==============================] - 1s 21ms/step - loss: 65.9749\n",
      "Epoch 17/100\n",
      "31/31 [==============================] - 1s 22ms/step - loss: 59.3479\n",
      "Epoch 18/100\n",
      "31/31 [==============================] - 1s 22ms/step - loss: 66.6875\n",
      "Epoch 19/100\n",
      "31/31 [==============================] - 1s 24ms/step - loss: 58.1640\n",
      "Epoch 20/100\n",
      "31/31 [==============================] - 1s 21ms/step - loss: 56.9745\n",
      "Epoch 21/100\n",
      "31/31 [==============================] - 1s 22ms/step - loss: 59.4425\n",
      "Epoch 22/100\n",
      "31/31 [==============================] - 1s 18ms/step - loss: 64.5369\n",
      "Epoch 23/100\n",
      "31/31 [==============================] - 1s 19ms/step - loss: 51.4867\n",
      "Epoch 24/100\n",
      "31/31 [==============================] - 1s 20ms/step - loss: 57.6580\n",
      "Epoch 25/100\n",
      "31/31 [==============================] - 1s 21ms/step - loss: 48.1729\n",
      "Epoch 26/100\n",
      "31/31 [==============================] - 1s 20ms/step - loss: 49.4083\n",
      "Epoch 27/100\n",
      "31/31 [==============================] - 1s 20ms/step - loss: 48.5046\n",
      "Epoch 28/100\n",
      "31/31 [==============================] - 1s 21ms/step - loss: 53.6250\n",
      "Epoch 29/100\n",
      "31/31 [==============================] - 1s 20ms/step - loss: 48.9667\n",
      "Epoch 30/100\n",
      "31/31 [==============================] - 1s 20ms/step - loss: 49.8495\n",
      "Epoch 31/100\n",
      "31/31 [==============================] - 1s 22ms/step - loss: 45.8828\n",
      "Epoch 32/100\n",
      "31/31 [==============================] - 1s 22ms/step - loss: 48.3021\n",
      "Epoch 33/100\n",
      "31/31 [==============================] - 1s 23ms/step - loss: 52.9925\n",
      "Epoch 34/100\n",
      "31/31 [==============================] - 1s 26ms/step - loss: 46.3697\n",
      "Epoch 35/100\n",
      "31/31 [==============================] - 1s 23ms/step - loss: 57.6158\n",
      "Epoch 36/100\n",
      "31/31 [==============================] - 1s 22ms/step - loss: 61.1805\n",
      "Epoch 37/100\n",
      "31/31 [==============================] - 1s 25ms/step - loss: 54.9300\n",
      "Epoch 38/100\n",
      "31/31 [==============================] - 1s 21ms/step - loss: 50.2239\n",
      "Epoch 39/100\n",
      "31/31 [==============================] - 1s 20ms/step - loss: 50.4418\n",
      "Epoch 40/100\n",
      "31/31 [==============================] - 1s 25ms/step - loss: 54.4290\n",
      "Epoch 41/100\n",
      "31/31 [==============================] - 1s 29ms/step - loss: 48.2277\n",
      "Epoch 42/100\n",
      "31/31 [==============================] - 1s 36ms/step - loss: 48.3888\n",
      "Epoch 43/100\n",
      "31/31 [==============================] - 1s 37ms/step - loss: 46.2025\n",
      "Epoch 44/100\n",
      "31/31 [==============================] - 1s 25ms/step - loss: 47.3831\n",
      "Epoch 45/100\n",
      "31/31 [==============================] - 1s 25ms/step - loss: 49.6171\n",
      "Epoch 46/100\n",
      "31/31 [==============================] - 1s 23ms/step - loss: 46.2375\n",
      "Epoch 47/100\n",
      "31/31 [==============================] - 1s 25ms/step - loss: 52.0071\n",
      "Epoch 48/100\n",
      "31/31 [==============================] - 1s 24ms/step - loss: 46.0968\n",
      "Epoch 49/100\n",
      "31/31 [==============================] - 1s 22ms/step - loss: 45.6926\n",
      "Epoch 50/100\n",
      "31/31 [==============================] - 1s 23ms/step - loss: 48.7195\n",
      "Epoch 51/100\n",
      "31/31 [==============================] - 1s 24ms/step - loss: 48.2718\n",
      "Epoch 52/100\n",
      "31/31 [==============================] - 1s 26ms/step - loss: 47.6232\n",
      "Epoch 53/100\n",
      "31/31 [==============================] - 1s 25ms/step - loss: 51.6543\n",
      "Epoch 54/100\n",
      "31/31 [==============================] - 1s 22ms/step - loss: 55.4339\n",
      "Epoch 55/100\n",
      "31/31 [==============================] - 1s 21ms/step - loss: 49.9849\n",
      "Epoch 56/100\n",
      "31/31 [==============================] - 1s 25ms/step - loss: 52.3345\n",
      "Epoch 57/100\n",
      "31/31 [==============================] - 1s 25ms/step - loss: 53.2843\n",
      "Epoch 58/100\n",
      "31/31 [==============================] - 1s 33ms/step - loss: 50.7575\n",
      "Epoch 59/100\n",
      "31/31 [==============================] - 1s 21ms/step - loss: 45.3239\n",
      "Epoch 60/100\n",
      "31/31 [==============================] - 1s 22ms/step - loss: 50.0540\n",
      "Epoch 61/100\n",
      "31/31 [==============================] - 1s 21ms/step - loss: 51.1941\n",
      "Epoch 62/100\n",
      "31/31 [==============================] - 1s 24ms/step - loss: 47.9159\n",
      "Epoch 63/100\n",
      "31/31 [==============================] - 1s 23ms/step - loss: 46.6501\n",
      "Epoch 64/100\n",
      "31/31 [==============================] - 1s 21ms/step - loss: 45.8725\n",
      "Epoch 65/100\n",
      "31/31 [==============================] - 1s 23ms/step - loss: 47.0573\n",
      "Epoch 66/100\n",
      "31/31 [==============================] - 1s 31ms/step - loss: 44.9694\n",
      "Epoch 67/100\n",
      "31/31 [==============================] - 1s 25ms/step - loss: 45.9033\n",
      "Epoch 68/100\n",
      "31/31 [==============================] - 1s 22ms/step - loss: 47.7551\n",
      "Epoch 69/100\n",
      "31/31 [==============================] - 1s 37ms/step - loss: 50.1727\n",
      "Epoch 70/100\n",
      "31/31 [==============================] - 1s 26ms/step - loss: 45.8056\n",
      "Epoch 71/100\n",
      "31/31 [==============================] - 1s 30ms/step - loss: 47.3538\n",
      "Epoch 72/100\n",
      "31/31 [==============================] - 1s 23ms/step - loss: 47.7149\n",
      "Epoch 73/100\n",
      "31/31 [==============================] - 1s 30ms/step - loss: 59.8297\n",
      "Epoch 74/100\n",
      "31/31 [==============================] - 1s 30ms/step - loss: 60.7177\n",
      "Epoch 75/100\n",
      "31/31 [==============================] - 1s 25ms/step - loss: 45.1662\n",
      "Epoch 76/100\n",
      "31/31 [==============================] - 1s 25ms/step - loss: 49.5393\n",
      "Epoch 77/100\n",
      "31/31 [==============================] - 1s 26ms/step - loss: 52.3187\n",
      "Epoch 78/100\n",
      "31/31 [==============================] - 1s 21ms/step - loss: 45.2561\n",
      "Epoch 79/100\n",
      "31/31 [==============================] - 1s 21ms/step - loss: 48.6716\n",
      "Epoch 80/100\n",
      "31/31 [==============================] - 1s 22ms/step - loss: 52.3695\n",
      "Epoch 81/100\n",
      "31/31 [==============================] - 1s 23ms/step - loss: 46.9018\n",
      "Epoch 82/100\n",
      "31/31 [==============================] - 1s 22ms/step - loss: 44.3565\n",
      "Epoch 83/100\n",
      "31/31 [==============================] - 1s 24ms/step - loss: 46.9266\n",
      "Epoch 84/100\n",
      "31/31 [==============================] - 1s 24ms/step - loss: 45.1339\n",
      "Epoch 85/100\n",
      "31/31 [==============================] - 1s 23ms/step - loss: 44.7826\n",
      "Epoch 86/100\n",
      "31/31 [==============================] - 1s 25ms/step - loss: 45.6811\n",
      "Epoch 87/100\n",
      "31/31 [==============================] - 1s 22ms/step - loss: 44.5686\n",
      "Epoch 88/100\n",
      "31/31 [==============================] - 1s 23ms/step - loss: 49.6583\n",
      "Epoch 89/100\n",
      "31/31 [==============================] - 1s 23ms/step - loss: 48.3088\n",
      "Epoch 90/100\n",
      "31/31 [==============================] - 1s 24ms/step - loss: 49.6272\n",
      "Epoch 91/100\n",
      "31/31 [==============================] - 1s 25ms/step - loss: 44.7698\n",
      "Epoch 92/100\n",
      "31/31 [==============================] - 1s 28ms/step - loss: 43.4100\n",
      "Epoch 93/100\n",
      "31/31 [==============================] - 1s 31ms/step - loss: 44.6142\n",
      "Epoch 94/100\n",
      "31/31 [==============================] - 1s 22ms/step - loss: 46.6737\n",
      "Epoch 95/100\n",
      "31/31 [==============================] - 1s 24ms/step - loss: 45.0215\n",
      "Epoch 96/100\n",
      "31/31 [==============================] - 1s 24ms/step - loss: 45.8769\n",
      "Epoch 97/100\n",
      "31/31 [==============================] - 1s 20ms/step - loss: 48.3826\n",
      "Epoch 98/100\n",
      "31/31 [==============================] - 1s 22ms/step - loss: 44.8364\n",
      "Epoch 99/100\n",
      "31/31 [==============================] - 1s 23ms/step - loss: 48.4962\n",
      "Epoch 100/100\n",
      "31/31 [==============================] - 1s 25ms/step - loss: 46.0482\n"
     ]
    }
   ]
  },
  {
   "cell_type": "code",
   "execution_count": 18,
   "outputs": [
    {
     "data": {
      "text/plain": "<Figure size 432x288 with 0 Axes>"
     },
     "execution_count": 18,
     "metadata": {},
     "output_type": "execute_result"
    },
    {
     "data": {
      "text/plain": "<Figure size 432x288 with 1 Axes>",
      "image/png": "[encoded data removed]"
     },
     "metadata": {
      "needs_background": "light"
     },
     "output_type": "display_data"
    },
    {
     "data": {
      "text/plain": "<Figure size 432x288 with 1 Axes>",
      "image/png": "[encoded data removed]"
     },
     "metadata": {
      "needs_background": "light"
     },
     "output_type": "display_data"
    },
    {
     "data": {
      "text/plain": "<Figure size 432x288 with 0 Axes>"
     },
     "metadata": {},
     "output_type": "display_data"
    }
   ],
   "source": [
    "import matplotlib.image  as mpimg\n",
    "import matplotlib.pyplot as plt\n",
    "\n",
    "#-----------------------------------------------------------\n",
    "# Retrieve a list of list results on training and test data\n",
    "# sets for each training epoch\n",
    "#-----------------------------------------------------------\n",
    "mae=history.history['loss']\n",
    "loss=history.history['loss']\n",
    "\n",
    "epochs=range(len(loss)) # Get number of epochs\n",
    "\n",
    "#------------------------------------------------\n",
    "# Plot MAE and Loss\n",
    "#------------------------------------------------\n",
    "plt.plot(epochs, mae, 'r')\n",
    "plt.plot(epochs, loss, 'b')\n",
    "plt.title('MAE and Loss')\n",
    "plt.xlabel(\"Epochs\")\n",
    "plt.ylabel(\"Accuracy\")\n",
    "plt.legend([\"MAE\", \"Loss\"])\n",
    "\n",
    "plt.figure()\n",
    "\n",
    "epochs_zoom = epochs[200:]\n",
    "mae_zoom = mae[200:]\n",
    "loss_zoom = loss[200:]\n",
    "\n",
    "#------------------------------------------------\n",
    "# Plot Zoomed MAE and Loss\n",
    "#------------------------------------------------\n",
    "plt.plot(epochs_zoom, mae_zoom, 'r')\n",
    "plt.plot(epochs_zoom, loss_zoom, 'b')\n",
    "plt.title('MAE and Loss')\n",
    "plt.xlabel(\"Epochs\")\n",
    "plt.ylabel(\"Accuracy\")\n",
    "plt.legend([\"MAE\", \"Loss\"])\n",
    "\n",
    "plt.figure()"
   ],
   "metadata": {
    "collapsed": false,
    "pycharm": {
     "name": "#%%\n"
    }
   }
  },
  {
   "cell_type": "code",
   "execution_count": null,
   "outputs": [],
   "source": [],
   "metadata": {
    "collapsed": false,
    "pycharm": {
     "name": "#%%\n"
    }
   }
  }
 ]
}